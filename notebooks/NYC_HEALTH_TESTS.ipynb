{
 "cells": [
  {
   "cell_type": "markdown",
   "metadata": {},
   "source": [
    "# NYCHealth Coronavirus (COVID-19) data\n",
    "### Original datasource: https://github.com/nychealth/coronavirus-data"
   ]
  },
  {
   "cell_type": "code",
   "execution_count": null,
   "metadata": {},
   "outputs": [],
   "source": [
    "import pandas as pd\n",
    "import requests\n",
    "import json\n",
    "import re\n",
    "import csv\n",
    "from airflow.models import Variable\n",
    "from datetime import datetime"
   ]
  },
  {
   "cell_type": "code",
   "execution_count": null,
   "metadata": {
    "tags": [
     "parameters"
    ]
   },
   "outputs": [],
   "source": [
    "# papermill parameters\n",
    "output_folder = \"../output/\""
   ]
  },
  {
   "cell_type": "code",
   "execution_count": null,
   "metadata": {},
   "outputs": [],
   "source": [
    "REPO_NAME = 'coronavirus-data'\n",
    "REPO_OWNER = 'nychealth'\n",
    "API_ENDPOINT = 'https://api.github.com/repos/'\n",
    "RAW_DATA_ENDPOINT = 'https://raw.githubusercontent.com/'"
   ]
  },
  {
   "cell_type": "code",
   "execution_count": null,
   "metadata": {},
   "outputs": [],
   "source": [
    "GIT_USER = Variable.get('GIT_USER', default_var=None)\n",
    "GIT_TOKEN = Variable.get('GIT_TOKEN', default_var=None)"
   ]
  },
  {
   "cell_type": "code",
   "execution_count": null,
   "metadata": {},
   "outputs": [],
   "source": [
    "session = requests.session()\n",
    "session.auth = (GITUSER, GITTOKEN)"
   ]
  },
  {
   "cell_type": "code",
   "execution_count": null,
   "metadata": {},
   "outputs": [],
   "source": [
    "response = session.get(f'{api_endpoint}/{repo_owner}/{repo_name}/commits')\n",
    "commit_shas = list(map(lambda commit: (commit['commit']['author']['date'], commit['sha']), json.loads(response.text)))"
   ]
  },
  {
   "cell_type": "code",
   "execution_count": null,
   "metadata": {},
   "outputs": [],
   "source": [
    "df = []\n",
    "for (date, commit) in commit_shas:\n",
    "    \n",
    "    response = session.get(f'{raw_data_endpoint}/{repo_owner}/{repo_name}/{commit}/tests-by-zcta.csv')\n",
    "    if response.status_code == 200:\n",
    "        \n",
    "        csv_dict = csv.DictReader(response.text.split('\\n'))\n",
    "        for row in csv_dict:\n",
    "            \n",
    "            row.update({'Date': date})  # add commit_date as field: Date\n",
    "            df.append(row)\n"
   ]
  },
  {
   "cell_type": "code",
   "execution_count": null,
   "metadata": {},
   "outputs": [],
   "source": [
    "df = pd.DataFrame(df)\n",
    "\n",
    "df[\"Last_Updated_Date\"] = datetime.datetime.utcnow()\n",
    "df['Last_Reported_Date'] = df['Date'] == df['Date'].max()"
   ]
  },
  {
   "cell_type": "code",
   "execution_count": null,
   "metadata": {},
   "outputs": [],
   "source": [
    "df.head()"
   ]
  },
  {
   "cell_type": "code",
   "execution_count": null,
   "metadata": {},
   "outputs": [],
   "source": [
    "df.to_csv(output_folder + \"NYC_HEALTH_TESTS.csv\")"
   ]
  }
 ],
 "metadata": {
  "celltoolbar": "Tags",
  "kernelspec": {
   "display_name": "Python 3",
   "language": "python",
   "name": "python3"
  },
  "language_info": {
   "codemirror_mode": {
    "name": "ipython",
    "version": 3
   },
   "file_extension": ".py",
   "mimetype": "text/x-python",
   "name": "python",
   "nbconvert_exporter": "python",
   "pygments_lexer": "ipython3",
   "version": "3.7.6"
  }
 },
 "nbformat": 4,
 "nbformat_minor": 4
}
