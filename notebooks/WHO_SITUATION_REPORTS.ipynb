{
 "cells": [
  {
   "cell_type": "code",
   "execution_count": null,
   "metadata": {},
   "outputs": [],
   "source": [
    "import tabula\n",
    "import pandas as pd\n",
    "import pycountry\n",
    "from datetime import datetime"
   ]
  },
  {
   "cell_type": "code",
   "execution_count": null,
   "metadata": {
    "tags": [
     "parameters"
    ]
   },
   "outputs": [],
   "source": [
    "# papermill parameters\n",
    "output_folder = \"../output/\"\n",
    "situation_report = '20200321-sitrep-61-covid-19'"
   ]
  },
  {
   "cell_type": "code",
   "execution_count": null,
   "metadata": {},
   "outputs": [],
   "source": [
    "all_tables = tabula.read_pdf(\"https://www.who.int/docs/default-source/coronaviruse/situation-reports/\"+ situation_report +\".pdf\", pages='all', pandas_options={'header': None})\n"
   ]
  },
  {
   "cell_type": "code",
   "execution_count": null,
   "metadata": {},
   "outputs": [],
   "source": [
    "country_data = pd.DataFrame([],columns=[])\n",
    "\n",
    "# Remove all tables without 7 columns\n",
    "for df in all_tables:\n",
    "    if len(df.columns) == 7:\n",
    "        #country_data = country_data.append(df, ignore_index=True, sort=True)\n",
    "        country_data = pd.concat([country_data,df],ignore_index=True, sort=True)\n",
    "\n",
    "# Remove columns with null country or cases \n",
    "country_data = country_data[country_data[0].notnull()]\n",
    "country_data = country_data[country_data[1].notnull()]\n",
    "# header row\n",
    "country_data = country_data[country_data[6]!='reported case']\n",
    "\n",
    "# Rename columns\n",
    "country_data = country_data.rename(columns={0:'Country',1:'Total_Cases',2:'Cases_New',3:'Deaths',4:'Deaths_New',5:'Transmission_Classification',6:'Days_Since_Last_Reported_Case'})\n"
   ]
  },
  {
   "cell_type": "code",
   "execution_count": null,
   "metadata": {},
   "outputs": [],
   "source": [
    "# TODO: clean up country names and ISO country code"
   ]
  },
  {
   "cell_type": "markdown",
   "metadata": {},
   "source": [
    "## Adding timestamp\n",
    "\n",
    "Before we save the file locally, we add the `Last_Update_Date` in `UTC` time zone."
   ]
  },
  {
   "cell_type": "code",
   "execution_count": null,
   "metadata": {},
   "outputs": [],
   "source": [
    "country_data[\"Last_Update_Date\"] = datetime.utcnow()\n",
    "country_data[\"Situation_Report_name\"] = situation_report\n"
   ]
  },
  {
   "cell_type": "code",
   "execution_count": null,
   "metadata": {},
   "outputs": [],
   "source": [
    "country_data.to_csv(output_folder + \"WHO_SITUATION_REPORTS.csv\", index=False)"
   ]
  }
 ],
 "metadata": {
  "kernelspec": {
   "display_name": "Python 3",
   "language": "python",
   "name": "python3"
  },
  "language_info": {
   "codemirror_mode": {
    "name": "ipython",
    "version": 3
   },
   "file_extension": ".py",
   "mimetype": "text/x-python",
   "name": "python",
   "nbconvert_exporter": "python",
   "pygments_lexer": "ipython3",
   "version": "3.7.5"
  }
 },
 "nbformat": 4,
 "nbformat_minor": 2
}
