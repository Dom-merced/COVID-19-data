{
 "cells": [
  {
   "cell_type": "markdown",
   "metadata": {},
   "source": [
    "# Importing from the COVID Tracking Project\n",
    "\n",
    "This script pulls data from the API provided by the [COVID Tracking Project](https://covidtracking.com/). They're collecting data from 50 US states, the District of Columbia, and five U.S. territories to provide the most comprehensive testing data. They attempt to include positive and negative results, pending tests and total people tested for each state or district currently reporting that data."
   ]
  },
  {
   "cell_type": "code",
   "execution_count": 10,
   "metadata": {},
   "outputs": [],
   "source": [
    "import pandas as pd\n",
    "import requests\n",
    "import json\n",
    "import datetime\n",
    "import pygsheets"
   ]
  },
  {
   "cell_type": "code",
   "execution_count": 2,
   "metadata": {
    "tags": [
     "parameters"
    ]
   },
   "outputs": [],
   "source": [
    "# papermill parameters\n",
    "output_folder = '../output/'"
   ]
  },
  {
   "cell_type": "code",
   "execution_count": 3,
   "metadata": {},
   "outputs": [
    {
     "data": {
      "text/html": [
       "<div>\n",
       "<style scoped>\n",
       "    .dataframe tbody tr th:only-of-type {\n",
       "        vertical-align: middle;\n",
       "    }\n",
       "\n",
       "    .dataframe tbody tr th {\n",
       "        vertical-align: top;\n",
       "    }\n",
       "\n",
       "    .dataframe thead th {\n",
       "        text-align: right;\n",
       "    }\n",
       "</style>\n",
       "<table border=\"1\" class=\"dataframe\">\n",
       "  <thead>\n",
       "    <tr style=\"text-align: right;\">\n",
       "      <th></th>\n",
       "      <th>date</th>\n",
       "      <th>state</th>\n",
       "      <th>positive</th>\n",
       "      <th>negative</th>\n",
       "      <th>pending</th>\n",
       "      <th>death</th>\n",
       "      <th>total</th>\n",
       "      <th>dateChecked</th>\n",
       "    </tr>\n",
       "  </thead>\n",
       "  <tbody>\n",
       "    <tr>\n",
       "      <th>0</th>\n",
       "      <td>20200318</td>\n",
       "      <td>AK</td>\n",
       "      <td>6</td>\n",
       "      <td>406.0</td>\n",
       "      <td>NaN</td>\n",
       "      <td>NaN</td>\n",
       "      <td>412</td>\n",
       "      <td>2020-03-18T20:00:00Z</td>\n",
       "    </tr>\n",
       "    <tr>\n",
       "      <th>1</th>\n",
       "      <td>20200318</td>\n",
       "      <td>AL</td>\n",
       "      <td>46</td>\n",
       "      <td>28.0</td>\n",
       "      <td>NaN</td>\n",
       "      <td>0.0</td>\n",
       "      <td>74</td>\n",
       "      <td>2020-03-18T20:00:00Z</td>\n",
       "    </tr>\n",
       "    <tr>\n",
       "      <th>2</th>\n",
       "      <td>20200318</td>\n",
       "      <td>AR</td>\n",
       "      <td>33</td>\n",
       "      <td>236.0</td>\n",
       "      <td>50.0</td>\n",
       "      <td>NaN</td>\n",
       "      <td>319</td>\n",
       "      <td>2020-03-18T20:00:00Z</td>\n",
       "    </tr>\n",
       "    <tr>\n",
       "      <th>3</th>\n",
       "      <td>20200318</td>\n",
       "      <td>AZ</td>\n",
       "      <td>28</td>\n",
       "      <td>148.0</td>\n",
       "      <td>102.0</td>\n",
       "      <td>0.0</td>\n",
       "      <td>278</td>\n",
       "      <td>2020-03-18T20:00:00Z</td>\n",
       "    </tr>\n",
       "    <tr>\n",
       "      <th>4</th>\n",
       "      <td>20200318</td>\n",
       "      <td>CA</td>\n",
       "      <td>611</td>\n",
       "      <td>7981.0</td>\n",
       "      <td>NaN</td>\n",
       "      <td>13.0</td>\n",
       "      <td>8592</td>\n",
       "      <td>2020-03-18T20:00:00Z</td>\n",
       "    </tr>\n",
       "  </tbody>\n",
       "</table>\n",
       "</div>"
      ],
      "text/plain": [
       "       date state  positive  negative  pending  death  total  \\\n",
       "0  20200318    AK         6     406.0      NaN    NaN    412   \n",
       "1  20200318    AL        46      28.0      NaN    0.0     74   \n",
       "2  20200318    AR        33     236.0     50.0    NaN    319   \n",
       "3  20200318    AZ        28     148.0    102.0    0.0    278   \n",
       "4  20200318    CA       611    7981.0      NaN   13.0   8592   \n",
       "\n",
       "            dateChecked  \n",
       "0  2020-03-18T20:00:00Z  \n",
       "1  2020-03-18T20:00:00Z  \n",
       "2  2020-03-18T20:00:00Z  \n",
       "3  2020-03-18T20:00:00Z  \n",
       "4  2020-03-18T20:00:00Z  "
      ]
     },
     "execution_count": 3,
     "metadata": {},
     "output_type": "execute_result"
    }
   ],
   "source": [
    "raw_response = requests.get(\"https://covidtracking.com/api/states/daily\").text\n",
    "raw_data = pd.DataFrame.from_dict(json.loads(raw_response))\n",
    "raw_data.head(5)"
   ]
  },
  {
   "cell_type": "markdown",
   "metadata": {},
   "source": [
    "### Data Quality\n",
    "1. Replace empty values with zero\n",
    "2. Convert \"date\" int column to \"Date\" datetime column\n",
    "4. Rename columns in order to match with other source\n",
    "5. Drop unnecessary columns\n",
    "6. Add \"Country/Region\" column, since the source contains data from US states, it can be hardcoded"
   ]
  },
  {
   "cell_type": "code",
   "execution_count": 4,
   "metadata": {},
   "outputs": [],
   "source": [
    "data = raw_data.fillna(0)\n",
    "data['Date'] = pd.to_datetime(data['date'].astype(str),format='%Y%m%d')\n",
    "data = data.rename(columns = {\"state\":\"Province/State\",\"positive\":\"Positive\", \"negative\": \"Negative\", \"pending\": \"Pending\", \"death\":\"Death\", \"total\":\"Total\"})\n",
    "data = data.drop(labels = ['dateChecked', \"date\"], axis = 'columns')\n",
    "data['Country/Region'] = \"US\""
   ]
  },
  {
   "cell_type": "markdown",
   "metadata": {},
   "source": [
    "## Sorting data by Province/State before calculating the daily differences"
   ]
  },
  {
   "cell_type": "code",
   "execution_count": 5,
   "metadata": {
    "scrolled": true
   },
   "outputs": [],
   "source": [
    "sorted_data = data.sort_values(by=['Province/State'] + ['Date'], ascending=True)"
   ]
  },
  {
   "cell_type": "code",
   "execution_count": 6,
   "metadata": {},
   "outputs": [],
   "source": [
    "sorted_data['Positive_Since_Previous_Day'] = sorted_data['Positive'] - sorted_data.groupby(['Province/State'])[\"Positive\"].shift(1, fill_value=0)\n",
    "sorted_data['Total_Since_Previous_Day'] = sorted_data['Total'] - sorted_data.groupby(['Province/State'])[\"Total\"].shift(1, fill_value=0)\n",
    "sorted_data['Negative_Since_Previous_Day'] = sorted_data['Negative'] - sorted_data.groupby(['Province/State'])[\"Negative\"].shift(1, fill_value=0)\n",
    "sorted_data['Pending_Since_Previous_Day'] = sorted_data['Pending'] - sorted_data.groupby(['Province/State'])[\"Pending\"].shift(1, fill_value=0)\n",
    "sorted_data['Death_Since_Previous_Day'] = sorted_data['Death'] - sorted_data.groupby(['Province/State'])[\"Death\"].shift(1, fill_value=0)"
   ]
  },
  {
   "cell_type": "markdown",
   "metadata": {},
   "source": [
    "## Rearrange columns"
   ]
  },
  {
   "cell_type": "code",
   "execution_count": 7,
   "metadata": {},
   "outputs": [],
   "source": [
    "rearranged_data = sorted_data[['Country/Region', 'Province/State', 'Date',\n",
    "                               'Positive', 'Positive_Since_Previous_Day',\n",
    "                               'Negative', 'Negative_Since_Previous_Day',\n",
    "                               'Pending', 'Pending_Since_Previous_Day',\n",
    "                               'Death', 'Death_Since_Previous_Day',\n",
    "                               'Total', 'Total_Since_Previous_Day']]"
   ]
  },
  {
   "cell_type": "markdown",
   "metadata": {},
   "source": [
    "## Add `Last_Update_Date`"
   ]
  },
  {
   "cell_type": "code",
   "execution_count": 20,
   "metadata": {},
   "outputs": [
    {
     "name": "stderr",
     "output_type": "stream",
     "text": [
      "/Users/csefalvayk/Developer/COVID-19-data/venv/lib/python3.7/site-packages/pandas/core/indexing.py:965: SettingWithCopyWarning: \n",
      "A value is trying to be set on a copy of a slice from a DataFrame.\n",
      "Try using .loc[row_indexer,col_indexer] = value instead\n",
      "\n",
      "See the caveats in the documentation: https://pandas.pydata.org/pandas-docs/stable/user_guide/indexing.html#returning-a-view-versus-a-copy\n",
      "  self.obj[item] = s\n"
     ]
    }
   ],
   "source": [
    "rearranged_data.loc[:, \"Last_Update_Date\"] = datetime.datetime.utcnow()"
   ]
  },
  {
   "cell_type": "markdown",
   "metadata": {},
   "source": [
    "## Export to CSV"
   ]
  },
  {
   "cell_type": "code",
   "execution_count": null,
   "metadata": {},
   "outputs": [],
   "source": [
    "rearranged_data.to_csv(output_folder + \"CT_US_COVID_TESTS.csv\", index=False)"
   ]
  }
 ],
 "metadata": {
  "celltoolbar": "Tags",
  "kernelspec": {
   "display_name": "Python 3",
   "language": "python",
   "name": "python3"
  },
  "language_info": {
   "codemirror_mode": {
    "name": "ipython",
    "version": 3
   },
   "file_extension": ".py",
   "mimetype": "text/x-python",
   "name": "python",
   "nbconvert_exporter": "python",
   "pygments_lexer": "ipython3",
   "version": "3.7.5"
  },
  "pycharm": {
   "stem_cell": {
    "cell_type": "raw",
    "metadata": {
     "collapsed": false
    },
    "source": []
   }
  }
 },
 "nbformat": 4,
 "nbformat_minor": 2
}
