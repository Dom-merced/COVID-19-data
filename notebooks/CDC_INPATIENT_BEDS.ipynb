{
 "cells": [
  {
   "cell_type": "markdown",
   "metadata": {
    "collapsed": true,
    "pycharm": {
     "name": "#%% md\n"
    }
   },
   "source": [
    "# CDC estimated inpatient beds time series\n",
    "\n",
    "* [Estimated inpatient beds](https://healthdata.gov/sites/default/files/estimated_inpatient_all_20210221_1631.csv)\n",
    "* [Estimated inpatient beds in use by COVID-19 patients](https://healthdata.gov/sites/default/files/estimated_inpatient_covid_20210221_1631.csv)\n",
    "* [Estimated ICU beds](https://healthdata.gov/sites/default/files/estimated_icu_20210221_1631.csv)"
   ]
  },
  {
   "cell_type": "code",
   "execution_count": null,
   "metadata": {
    "pycharm": {
     "name": "#%%\n"
    }
   },
   "outputs": [],
   "source": [
    "import pandas as pd\n",
    "import numpy as np\n",
    "import pycountry\n",
    "import json\n",
    "from datetime import datetime\n",
    "from functools import reduce\n",
    "import requests\n",
    "from io import StringIO\n",
    "import re\n",
    "from bs4 import BeautifulSoup\n",
    "import requests"
   ]
  },
  {
   "cell_type": "code",
   "execution_count": null,
   "metadata": {
    "tags": [
     "parameters"
    ]
   },
   "outputs": [],
   "source": [
    "# papermill parameters\n",
    "output_folder = \"../output/\""
   ]
  },
  {
   "cell_type": "code",
   "execution_count": null,
   "metadata": {},
   "outputs": [],
   "source": [
    "# root_url = \"https://healthdata.gov/dataset/covid-19-estimated-patient-impact-and-hospital-capacity-state\"\n",
    "# states = [subdivision.code.replace(\"US-\", \"\") for subdivision in pycountry.subdivisions if subdivision.code.startswith(\"US-\")]\n",
    "# response = requests.get(root_url)\n",
    "# assert response.status_code == 200\n",
    "# soup = BeautifulSoup(response.content)\n",
    "# links = soup.find_all(\"a\", {\"class\": \"data-link\"})\n",
    "# assert len(links)\n",
    "# df_list = []\n",
    "# for l in links:\n",
    "#     url = l[\"href\"]\n",
    "#     print(url)\n",
    "#     df = pd.read_csv(url)\n",
    "#     df[\"ISO3166_1\"] = \"US\"\n",
    "#     df[\"ISO3166_2\"] = df[\"state\"]\n",
    "    \n",
    "#     df[\"Last_Reported_Flag\"] = df[\"collection_date\"].max() == df[\"collection_date\"]\n",
    "#     df = df[df[\"ISO3166_2\"].isin(states)]\n",
    "#     df_list.append(df)"
   ]
  },
  {
   "cell_type": "code",
   "execution_count": null,
   "metadata": {},
   "outputs": [],
   "source": [
    "states = [subdivision.code.replace(\"US-\", \"\") for subdivision in pycountry.subdivisions if subdivision.code.startswith(\"US-\")]"
   ]
  },
  {
   "cell_type": "code",
   "execution_count": null,
   "metadata": {},
   "outputs": [],
   "source": [
    "url_covid_19_inpatient_beds = \"https://healthdata.gov/api/views/py8k-j5rq/rows.csv?accessType=DOWNLOAD\"\n",
    "datasource_covid_19_inpatient_beds = \"https://healthdata.gov/dataset/COVID-19-Estimated-Inpatient-Beds-Occupied-by-COVI/py8k-j5rq\"\n",
    "covid_19_inpatient_beds = pd.read_csv(url_covid_19_inpatient_beds)\n",
    "\n",
    "url_occupied_icu_beds = \"https://healthdata.gov/api/views/7ctx-gtb7/rows.csv?accessType=DOWNLOAD\"\n",
    "datasource_occupied_icu_beds = \"https://healthdata.gov/dataset/COVID-19-Estimated-ICU-Beds-Occupied-by-State-Time/7ctx-gtb7\"\n",
    "occupied_icu_beds = pd.read_csv(url_occupied_icu_beds)\n",
    "\n",
    "url_inpatient_beds = \"https://healthdata.gov/api/views/jjp9-htie/rows.csv?accessType=DOWNLOAD\"\n",
    "datasource_inpatient_beds = \"https://healthdata.gov/dataset/COVID-19-Estimated-Inpatient-Beds-Occupied-by-Stat/jjp9-htie\"\n",
    "inpatient_beds = pd.read_csv(url_inpatient_beds)"
   ]
  },
  {
   "cell_type": "code",
   "execution_count": null,
   "metadata": {},
   "outputs": [],
   "source": [
    "covid_19_inpatient_beds[\"ISO3166_1\"] = \"US\"\n",
    "covid_19_inpatient_beds[\"ISO3166_2\"] = covid_19_inpatient_beds[\"state\"]\n",
    "covid_19_inpatient_beds[\"Last_Reported_Flag\"] = covid_19_inpatient_beds[\"collection_date\"].max() == covid_19_inpatient_beds[\"collection_date\"]\n",
    "covid_19_inpatient_beds.drop(columns=[\"geocoded_state\"], inplace=True)\n",
    "covid_19_inpatient_beds = covid_19_inpatient_beds[covid_19_inpatient_beds[\"ISO3166_2\"].isin(states)]\n",
    "\n",
    "occupied_icu_beds[\"ISO3166_1\"] = \"US\"\n",
    "occupied_icu_beds[\"ISO3166_2\"] = occupied_icu_beds[\"state\"]\n",
    "occupied_icu_beds[\"Last_Reported_Flag\"] = occupied_icu_beds[\"collection_date\"].max() == occupied_icu_beds[\"collection_date\"]\n",
    "occupied_icu_beds.drop(columns=[\"geocoded_state\"], inplace=True)\n",
    "occupied_icu_beds = occupied_icu_beds[occupied_icu_beds[\"ISO3166_2\"].isin(states)]\n",
    "\n",
    "inpatient_beds[\"ISO3166_1\"] = \"US\"\n",
    "inpatient_beds[\"ISO3166_2\"] = inpatient_beds[\"state\"]\n",
    "inpatient_beds[\"Last_Reported_Flag\"] = inpatient_beds[\"collection_date\"].max() == inpatient_beds[\"collection_date\"]\n",
    "inpatient_beds.drop(columns=[\"geocoded_state\"], inplace=True)\n",
    "inpatient_beds = inpatient_beds[inpatient_beds[\"ISO3166_2\"].isin(states)]"
   ]
  },
  {
   "cell_type": "code",
   "execution_count": null,
   "metadata": {},
   "outputs": [],
   "source": [
    "inpatient_beds.columns = [\"STATE\", \"DATE\", \"INPATIENT_BEDS_OCCUPIED\", \"INPATIENT_BEDS_LOWER_BOUND\", \"INPATIENT_BEDS_UPPER_BOUND\", \"INPATIENT_BEDS_IN_USE_PCT\", \"INPATIENT_BEDS_IN_USE_PCT_LOWER_BOUND\", \"INPATIENT_BEDS_IN_USE_PCT_UPPER_BOUND\", \"TOTAL_INPATIENT_BEDS\", \"TOTAL_INPATIENT_BEDS_LOWER_BOUND\", \"TOTAL_INPATIENT_BEDS_UPPER_BOUND\", \"ISO3166_1\", \"ISO3166_2\", \"LAST_REPORTED_FLAG\"]\n",
    "covid_19_inpatient_beds.columns = inpatient_beds.columns\n",
    "occupied_icu_beds.columns = [\"STATE\", \"DATE\", \"STAFFED_ADULT_ICU_BEDS_OCCUPIED\", \"STAFFED_ADULT_ICU_BEDS_OCCUPIED_LOWER_BOUND\", \"STAFFED_ADULT_ICU_BEDS_OCCUPIED_UPPER_BOUND\", \"STAFFED_ADULT_ICU_BEDS_OCCUPIED_PCT\", \"STAFFED_ADULT_ICU_BEDS_OCCUPIED_PCT_LOWER_BOUND\", \"STAFFED_ADULT_ICU_BEDS_OCCUPIED_PCT_UPPER_BOUND\", \"TOTAL_STAFFED_ICU_BEDS\", \"TOTAL_STAFFED_ICU_BEDS_LOWER_BOUND\", \"TOTAL_STAFFED_ICU_BEDS_UPPER_BOUND\", \"ISO3166_1\", \"ISO3166_2\", \"LAST_REPORTED_FLAG\"]"
   ]
  },
  {
   "cell_type": "code",
   "execution_count": null,
   "metadata": {},
   "outputs": [],
   "source": [
    "for column in list(filter(lambda c: \"BEDS\" in c.upper() and \"PCT\" not in c.upper(), inpatient_beds.columns)):\n",
    "    inpatient_beds[column] = inpatient_beds[column].replace(\",\",\"\", regex=True).astype(int)\n",
    "\n",
    "for column in list(filter(lambda c: \"BEDS\" in c.upper() and \"PCT\" not in c.upper(), covid_19_inpatient_beds.columns)):\n",
    "    covid_19_inpatient_beds[column] = covid_19_inpatient_beds[column].replace(\",\",\"\", regex=True).astype(int)\n",
    "\n",
    "for column in list(filter(lambda c: \"BEDS\" in c.upper() and \"PCT\" not in c.upper(), occupied_icu_beds.columns)):\n",
    "    occupied_icu_beds[column] = occupied_icu_beds[column].replace(\",\",\"\", regex=True).astype(int)\n",
    "    "
   ]
  },
  {
   "cell_type": "markdown",
   "metadata": {},
   "source": [
    "```sql\n",
    "CREATE TABLE CDC_INPATIENT_BEDS_ALL (\n",
    "    STATE varchar,\n",
    "DATE timestamp_ntz,\n",
    "INPATIENT_BEDS_OCCUPIED integer,\n",
    "INPATIENT_BEDS_LOWER_BOUND integer,\n",
    "INPATIENT_BEDS_UPPER_BOUND integer,\n",
    "INPATIENT_BEDS_IN_USE_PCT float,\n",
    "INPATIENT_BEDS_IN_USE_PCT_LOWER_BOUND float,\n",
    "INPATIENT_BEDS_IN_USE_PCT_UPPER_BOUND float,\n",
    "TOTAL_INPATIENT_BEDS integer,\n",
    "TOTAL_INPATIENT_BEDS_LOWER_BOUND integer,\n",
    "TOTAL_INPATIENT_BEDS_UPPER_BOUND integer,\n",
    "ISO3166_1 varchar(2),\n",
    "ISO3166_2 varchar(2),\n",
    "LAST_REPORTED_FLAG boolean\n",
    ");\n",
    "\n",
    "\n",
    "\n",
    "CREATE TABLE  CDC_INPATIENT_BEDS_COVID_19 (\n",
    "  STATE varchar,\n",
    "  DATE timestamp_ntz,\n",
    "  INPATIENT_BEDS_OCCUPIED integer,\n",
    "  INPATIENT_BEDS_LOWER_BOUND integer,\n",
    "  INPATIENT_BEDS_UPPER_BOUND integer,\n",
    "  INPATIENT_BEDS_IN_USE_PCT float,\n",
    "  INPATIENT_BEDS_IN_USE_PCT_LOWER_BOUND float,\n",
    "  INPATIENT_BEDS_IN_USE_PCT_UPPER_BOUND float,\n",
    "  TOTAL_INPATIENT_BEDS integer,\n",
    "  TOTAL_INPATIENT_BEDS_LOWER_BOUND integer,\n",
    "  TOTAL_INPATIENT_BEDS_UPPER_BOUND integer,\n",
    "  ISO3166_1 varchar(2),\n",
    "  ISO3166_2 varchar(2),\n",
    "  LAST_REPORTED_FLAG boolean\n",
    ");\n",
    "\n",
    "\n",
    "CREATE TABLE CDC_INPATIENT_BEDS_ICU_ALL(\n",
    "  STATE varchar,\n",
    "  DATE timestamp_ntz,\n",
    "  STAFFED_ADULT_ICU_BEDS_OCCUPIED integer,\n",
    "  STAFFED_ADULT_ICU_BEDS_OCCUPIED_LOWER_BOUND integer,\n",
    "  STAFFED_ADULT_ICU_BEDS_OCCUPIED_UPPER_BOUND integer,\n",
    "  STAFFED_ADULT_ICU_BEDS_OCCUPIED_PCT float,\n",
    "  STAFFED_ADULT_ICU_BEDS_OCCUPIED_PCT_LOWER_BOUND float,\n",
    "  STAFFED_ADULT_ICU_BEDS_OCCUPIED_PCT_UPPER_BOUND float,\n",
    "  TOTAL_STAFFED_ICU_BEDS integer,\n",
    "  TOTAL_STAFFED_ICU_BEDS_LOWER_BOUND integer,\n",
    "  TOTAL_STAFFED_ICU_BEDS_UPPER_BOUND integer,\n",
    "  ISO3166_1 varchar(2),\n",
    ";  ISO3166_2 varchar(2),\n",
    "  LAST_REPORTED_FLAG boolean\n",
    ");\n",
    "```"
   ]
  },
  {
   "cell_type": "code",
   "execution_count": null,
   "metadata": {},
   "outputs": [],
   "source": [
    "inpatient_beds.to_csv(output_folder + \"CDC_INPATIENT_BEDS_ALL.csv\", index=False, columns=inpatient_beds.columns)\n",
    "covid_19_inpatient_beds.to_csv(output_folder + \"CDC_INPATIENT_BEDS_COVID_19.csv\", index=False, columns=covid_19_inpatient_beds.columns)\n",
    "occupied_icu_beds.to_csv(output_folder + \"CDC_INPATIENT_BEDS_ICU_ALL.csv\", index=False, columns=occupied_icu_beds.columns)"
   ]
  }
 ],
 "metadata": {
  "celltoolbar": "Tags",
  "kernelspec": {
   "display_name": "Python 3",
   "language": "python",
   "name": "python3"
  },
  "language_info": {
   "codemirror_mode": {
    "name": "ipython",
    "version": 3
   },
   "file_extension": ".py",
   "mimetype": "text/x-python",
   "name": "python",
   "nbconvert_exporter": "python",
   "pygments_lexer": "ipython3",
   "version": "3.6.5"
  },
  "toc": {
   "base_numbering": 1,
   "nav_menu": {},
   "number_sections": true,
   "sideBar": true,
   "skip_h1_title": false,
   "title_cell": "Table of Contents",
   "title_sidebar": "Contents",
   "toc_cell": false,
   "toc_position": {},
   "toc_section_display": true,
   "toc_window_display": false
  }
 },
 "nbformat": 4,
 "nbformat_minor": 1
}
