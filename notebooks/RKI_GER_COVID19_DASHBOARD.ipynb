{
 "cells": [
  {
   "cell_type": "markdown",
   "metadata": {},
   "source": [
    "# Robert Koch-Institut: COVID-19-Dashboard\n",
    " Data from https://experience.arcgis.com/experience/478220a4c454480e823b17327b2bf1d4 dashboard using the arcgis REST API."
   ]
  },
  {
   "cell_type": "code",
   "execution_count": 1,
   "metadata": {},
   "outputs": [],
   "source": [
    "import pandas as pd\n",
    "import requests\n",
    "import json\n",
    "from datetime import datetime\n",
    "import re"
   ]
  },
  {
   "cell_type": "code",
   "execution_count": 2,
   "metadata": {},
   "outputs": [],
   "source": [
    "# papermill parameters\n",
    "output_folder = \"../output/\""
   ]
  },
  {
   "cell_type": "markdown",
   "metadata": {},
   "source": [
    "### Get record count, set query parameters"
   ]
  },
  {
   "cell_type": "code",
   "execution_count": 3,
   "metadata": {},
   "outputs": [
    {
     "name": "stdout",
     "output_type": "stream",
     "text": [
      "37766\n"
     ]
    }
   ],
   "source": [
    "# send get request to endpoint\n",
    "response = requests.get(\"https://services7.arcgis.com/mOBPykOjAyBO2ZKk/arcgis/rest/services/RKI_COVID19/FeatureServer/0/query?where=1=1&returnCountOnly=true&f=json\")\n",
    "\n",
    "# check request status is HTTP_OK\n",
    "assert response.status_code is 200\n",
    "\n",
    "# load to json\n",
    "data = json.loads(response.text)\n",
    "\n",
    "# set params\n",
    "record_count = data['count']\n",
    "offset = 0\n",
    "record_fetch_count = 2000\n",
    "fields = None\n",
    "records = []\n",
    "print(record_count)"
   ]
  },
  {
   "cell_type": "markdown",
   "metadata": {},
   "source": [
    "### Retrieve data"
   ]
  },
  {
   "cell_type": "code",
   "execution_count": 4,
   "metadata": {},
   "outputs": [],
   "source": [
    "while offset < record_count:\n",
    "    response = requests.get(f\"https://services7.arcgis.com/mOBPykOjAyBO2ZKk/arcgis/rest/services/RKI_COVID19/FeatureServer/0/query?where=1=1&outFields=*&f=pjson&resultRecordCount={record_fetch_count}&resultOffset={offset}\")\n",
    "    \n",
    "    # check if request status code is HTTP_OK \n",
    "    assert response.status_code is 200\n",
    "    \n",
    "    # load to json\n",
    "    data = json.loads(response.text)\n",
    "    \n",
    "    # set fields\n",
    "    if not fields:\n",
    "        fields = list(map(lambda f: f['name'],data['fields']))\n",
    "    \n",
    "    data = list(map(lambda record: record['attributes'].values(), data['features']))\n",
    "    \n",
    "    # add to records\n",
    "    records += data\n",
    "    \n",
    "    # set params\n",
    "    offset += record_fetch_count\n",
    "    \n",
    "assert len(records) == record_count\n",
    "records = dict(zip(range(len(records)), records)) \n",
    "df = pd.DataFrame.from_dict(records, orient=\"index\", columns=fields)"
   ]
  },
  {
   "cell_type": "markdown",
   "metadata": {},
   "source": [
    "### Cleanse data"
   ]
  },
  {
   "cell_type": "code",
   "execution_count": 5,
   "metadata": {
    "scrolled": true
   },
   "outputs": [],
   "source": [
    "column_name_map = {\n",
    "    \"Bundesland\": \"federal_state\",\n",
    "    \"Landkreis\": \"district\",\n",
    "    \"Altersgruppe\": \"age_group\",\n",
    "    \"Geschlecht\": \"sex\",\n",
    "    \"AnzahlFall\": \"number_of_cases\",\n",
    "    \"AnzahlTodesfall\": \"number_of_deaths\",\n",
    "    \"Meldedatum\": \"epoch_reporting_date\",\n",
    "    \"IdLandkreis\": \"district_code\",\n",
    "    \"NeuerFall\": \"new_cases\",\n",
    "    \"NeuerTodesfall\": \"new_deaths\",\n",
    "    \"Datenstand\": \"last_update\"\n",
    "}\n",
    "df.rename(columns=column_name_map, inplace=True)\n",
    "df.drop(columns=['ObjectId'], inplace=True)\n",
    "\n",
    "# last_update -> epoch\n",
    "def resolve_last_update(row):\n",
    "    date_regex = re.search(r'(\\d{2})\\.(\\d{2})\\.(\\d{4}), (\\d{2}):(\\d{2})', row)\n",
    "    return int(datetime.fromisoformat(f'{date_regex.group(3)}-{date_regex.group(2)}-{date_regex.group(1)}T{date_regex.group(4)}:{date_regex.group(5)}+02:00').timestamp()) * 1000\n",
    "\n",
    "df['last_update'] = list(map(lambda row: resolve_last_update(row), df['last_update']))\n",
    "df['age_group'].replace('A', 'Y', regex=True, inplace=True)\n",
    "df['sex'].replace('W', 'F', regex=True, inplace=True)\n",
    "df['sex'].replace('unbekannt', 'None', inplace=True)"
   ]
  },
  {
   "cell_type": "code",
   "execution_count": 6,
   "metadata": {},
   "outputs": [],
   "source": [
    "df.to_csv(output_folder + \"RKI_GER_COVID19_DASHBOARD.csv\", index=False)"
   ]
  }
 ],
 "metadata": {
  "kernelspec": {
   "display_name": "Python 3",
   "language": "python",
   "name": "python3"
  },
  "language_info": {
   "codemirror_mode": {
    "name": "ipython",
    "version": 3
   },
   "file_extension": ".py",
   "mimetype": "text/x-python",
   "name": "python",
   "nbconvert_exporter": "python",
   "pygments_lexer": "ipython3",
   "version": "3.7.6"
  }
 },
 "nbformat": 4,
 "nbformat_minor": 4
}
