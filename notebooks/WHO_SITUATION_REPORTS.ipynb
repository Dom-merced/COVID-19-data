{
 "cells": [
  {
   "cell_type": "markdown",
   "metadata": {},
   "source": [
    "## WHO Coronavirus disease (COVID-2019) situation reports\n",
    "\n",
    "PDF Reports from https://www.who.int/emergencies/diseases/novel-coronavirus-2019/situation-reports in Tabular format.\n"
   ]
  },
  {
   "cell_type": "code",
   "execution_count": null,
   "metadata": {},
   "outputs": [],
   "source": [
    "import tabula\n",
    "import pandas as pd\n",
    "import pycountry\n",
    "from datetime import datetime"
   ]
  },
  {
   "cell_type": "code",
   "execution_count": null,
   "metadata": {
    "tags": [
     "parameters"
    ]
   },
   "outputs": [],
   "source": [
    "# papermill parameters\n",
    "output_folder = \"../output/\"\n",
    "situation_report = '20200321-sitrep-61-covid-19'\n",
    "date = '2020-03-21'"
   ]
  },
  {
   "cell_type": "code",
   "execution_count": null,
   "metadata": {},
   "outputs": [],
   "source": [
    "report_url = \"https://www.who.int/docs/default-source/coronaviruse/situation-reports/\"+ situation_report +\".pdf\"\n",
    "all_tables = tabula.read_pdf(report_url, pages='all', pandas_options={'header': None})\n"
   ]
  },
  {
   "cell_type": "code",
   "execution_count": null,
   "metadata": {},
   "outputs": [],
   "source": [
    "country_data = pd.DataFrame([],columns=[])\n",
    "\n",
    "# Remove all tables without 7 columns\n",
    "for df in all_tables:\n",
    "    if len(df.columns) == 7:\n",
    "        country_data = pd.concat([country_data,df],ignore_index=True, sort=True)\n",
    "\n",
    "# Remove columns with null country or cases \n",
    "country_data = country_data[country_data[0].notnull()]\n",
    "country_data = country_data[country_data[1].notnull()]\n",
    "# header row\n",
    "country_data = country_data[country_data[6]!='reported case']\n",
    "\n",
    "# Rename columns\n",
    "country_data = country_data.rename(columns={0:'Country',1:'Total_Cases',2:'Cases_New',3:'Deaths',4:'Deaths_New',5:'Transmission_Classification',6:'Days_Since_Last_Reported_Case'})\n"
   ]
  },
  {
   "cell_type": "code",
   "execution_count": null,
   "metadata": {},
   "outputs": [],
   "source": [
    "changed_names = {\n",
    "    \"The United Kingdom\": \"United Kingdom\",\n",
    "    \"Serbia††\": \"Serbia\",\n",
    "    \"Iran (Islamic Republic of)\": \"Iran\",\n",
    "    \"occupied Palestinian territory\": \"Palestine\",\n",
    "    \"Venezuela (Bolivarian Republic of)\": \"Venezuela\",\n",
    "    \"Bolivia (Plurinational State of)\": \"Bolivia\",\n",
    "    \"Côte d’Ivoire\": \"Côte d'Ivoire\"\n",
    "}\n",
    "\n",
    "country_data[\"Country\"] = country_data[\"Country\"].str.replace('\\r', ' ')\n",
    "country_data[\"Country\"] = country_data[\"Country\"].replace(changed_names)\n",
    "\n",
    "def resolve_iso3166_1_row(row):\n",
    "    country = pycountry.countries.search_fuzzy( row[\"Country\"])[0]\n",
    "    row[\"ISO3166-1\"] = country.alpha_2\n",
    "    row['Country/Region'] = country.name\n",
    "    return row\n",
    "    \n",
    "\n",
    "data = country_data.apply(resolve_iso3166_1_row, axis=\"columns\")\n",
    "        \n"
   ]
  },
  {
   "cell_type": "code",
   "execution_count": null,
   "metadata": {},
   "outputs": [],
   "source": [
    "data"
   ]
  },
  {
   "cell_type": "markdown",
   "metadata": {},
   "source": [
    "## Adding Metadata\n",
    "\n",
    "Before we save the file locally, we add the `Last_Update_Date` in `UTC` time zone.\n",
    "\n",
    "In addition, we add report name and location."
   ]
  },
  {
   "cell_type": "code",
   "execution_count": null,
   "metadata": {},
   "outputs": [],
   "source": [
    "data[\"Date\"] = date\n",
    "data[\"Situation_Report_name\"] = situation_report\n",
    "data[\"Situation_Report_URL\"] = report_url\n",
    "data[\"Last_Update_Date\"] = datetime.utcnow()\n"
   ]
  },
  {
   "cell_type": "code",
   "execution_count": null,
   "metadata": {},
   "outputs": [],
   "source": [
    "data.to_csv(output_folder + \"WHO_SITUATION_REPORTS.csv\", index=False)"
   ]
  }
 ],
 "metadata": {
  "kernelspec": {
   "display_name": "Python 3",
   "language": "python",
   "name": "python3"
  },
  "language_info": {
   "codemirror_mode": {
    "name": "ipython",
    "version": 3
   },
   "file_extension": ".py",
   "mimetype": "text/x-python",
   "name": "python",
   "nbconvert_exporter": "python",
   "pygments_lexer": "ipython3",
   "version": "3.7.5"
  }
 },
 "nbformat": 4,
 "nbformat_minor": 2
}
