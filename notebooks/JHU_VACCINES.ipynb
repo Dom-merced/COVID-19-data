{
 "cells": [
  {
   "cell_type": "markdown",
   "metadata": {},
   "source": [
    "# US Level Vaccination Data from JHU\n",
    "\n",
    "The following script takes data from the repository of the 2020 JHU Vaccines Dashboard operated by Johns Hopkins University's Centers for Civic Impact.  "
   ]
  },
  {
   "cell_type": "code",
   "execution_count": 1,
   "metadata": {},
   "outputs": [],
   "source": [
    "import pandas as pd\n",
    "import datetime"
   ]
  },
  {
   "cell_type": "code",
   "execution_count": 2,
   "metadata": {
    "tags": [
     "parameters"
    ]
   },
   "outputs": [],
   "source": [
    "# papermill parameters\n",
    "output_folder = \"../output/\""
   ]
  },
  {
   "cell_type": "code",
   "execution_count": 3,
   "metadata": {},
   "outputs": [],
   "source": [
    "df = pd.read_csv(\"https://raw.githubusercontent.com/govex/COVID-19/master/data_tables/vaccine_data/us_data/time_series/vaccine_data_us_timeline.csv\",\n",
    "                skipinitialspace=True)"
   ]
  },
  {
   "cell_type": "code",
   "execution_count": 4,
   "metadata": {},
   "outputs": [],
   "source": [
    "df['Country_Region'] = 'US'\n",
    "df[\"Last_Update_Date\"] = datetime.datetime.utcnow()"
   ]
  },
  {
   "cell_type": "markdown",
   "metadata": {},
   "source": [
    "### Data cleansing\n",
    "\n",
    "Remove mistyped unicode characters"
   ]
  },
  {
   "cell_type": "code",
   "execution_count": 5,
   "metadata": {},
   "outputs": [],
   "source": [
    "df['Stage_One_Doses'] = df['Stage_One_Doses'].astype(str).str.replace(u\"\\u202C\", \"\", regex=False).astype(float)\n",
    "\n"
   ]
  },
  {
   "cell_type": "markdown",
   "metadata": {},
   "source": [
    "## Set Last_Reported_Date_Flag"
   ]
  },
  {
   "cell_type": "code",
   "execution_count": 6,
   "metadata": {},
   "outputs": [],
   "source": [
    "df['Last_Reported_Flag'] = df[\"Date\"].max() == df[\"Date\"]"
   ]
  },
  {
   "cell_type": "markdown",
   "metadata": {},
   "source": [
    "## Pivot data by vaccine type, flatten multi col, reset index"
   ]
  },
  {
   "cell_type": "code",
   "execution_count": 7,
   "metadata": {},
   "outputs": [],
   "source": [
    "df = df.pivot(\n",
    "    index=[\"Province_State\", \"Date\", \"FIPS\", \"Country_Region\", \"Lat\", \"Long_\", \"Stage_One_Doses\", \"Stage_Two_Doses\", \"Combined_Key\", \"Last_Update_Date\", \"Last_Reported_Flag\"],\n",
    "    columns=[\"Vaccine_Type\"],\n",
    "    values=[\"Doses_alloc\", \"Doses_shipped\", \"Doses_admin\"]\n",
    ")\n",
    "df.columns = df.columns = [' '.join(col).strip() for col in df.columns.values]\n",
    "df.columns = [\"_\".join(col.strip().split(\" \")) for col in df.columns.values]\n",
    "df.columns = df.columns.get_level_values(0)\n",
    "df = df.reset_index()"
   ]
  },
  {
   "cell_type": "code",
   "execution_count": 14,
   "metadata": {},
   "outputs": [],
   "source": [
    "col_map = {\n",
    "    \"Stage_One_Doses\": \"PEOPLE_TOTAL\",\n",
    "    \"Stage_Two_Doses\": \"PEOPLE_TOTAL_2ND_DOSE\",\n",
    "    \"Doses_alloc_All\": \"DOSES_ALLOC_TOTAL\",\n",
    "    \"Doses_shipped_All\": \"DOSES_SHIPPED_TOTAL\",\n",
    "    \"Doses_admin_All\": \"DOSES_ADMIN_ALL\",\n",
    "    \"Doses_alloc_Johnson_&_Johnson\": \"DOSES_ALLOC_JOHNSON_AND_JOHNSON\",\n",
    "    \"Doses_shipped_Johnson_&_Johnson\": \"DOSES_SHIPPED_JOHNSON_AND_JOHNSON\",\n",
    "    \"Doses_admin_Johnson_&_Johnson\": \"DOSES_ADMIN_JOHNSON_AND_JOHNSON\",\n",
    "}\n",
    "df = df.rename(columns=col_map)"
   ]
  },
  {
   "cell_type": "markdown",
   "metadata": {},
   "source": [
    "## Output"
   ]
  },
  {
   "cell_type": "markdown",
   "metadata": {},
   "source": [
    "Finally, we store the output in the `output` folder as `JHU_VACCINES.csv` as an unindexed CSV file."
   ]
  },
  {
   "cell_type": "code",
   "execution_count": 16,
   "metadata": {},
   "outputs": [],
   "source": [
    "df.to_csv(output_folder + \"JHU_VACCINES.csv\", index=False, columns=[\n",
    "    \"Date\", \"Province_State\", \"FIPS\", \n",
    "    \"DOSES_ALLOC_TOTAL\", \"Doses_alloc_Moderna\", \"Doses_alloc_Pfizer\", \"DOSES_ALLOC_JOHNSON_AND_JOHNSON\", \"Doses_alloc_Unassigned\", \"Doses_alloc_Unknown\",\n",
    "    \"DOSES_SHIPPED_TOTAL\", \"Doses_shipped_Moderna\", \"Doses_shipped_Pfizer\", \"DOSES_SHIPPED_JOHNSON_AND_JOHNSON\", \"Doses_shipped_Unassigned\", \"Doses_shipped_Unknown\", \n",
    "    \"DOSES_ADMIN_ALL\", \"Doses_admin_Moderna\", \"Doses_admin_Pfizer\", \"DOSES_ADMIN_JOHNSON_AND_JOHNSON\", \"Doses_admin_Unassigned\", \"Doses_admin_Unknown\",\n",
    "    \"PEOPLE_TOTAL\", \"PEOPLE_TOTAL_2ND_DOSE\", \"Country_Region\", \"Last_Update_Date\", \"Last_Reported_Flag\"\n",
    "])"
   ]
  }
 ],
 "metadata": {
  "celltoolbar": "Tags",
  "kernelspec": {
   "display_name": "Python 3",
   "language": "python",
   "name": "python3"
  },
  "language_info": {
   "codemirror_mode": {
    "name": "ipython",
    "version": 3
   },
   "file_extension": ".py",
   "mimetype": "text/x-python",
   "name": "python",
   "nbconvert_exporter": "python",
   "pygments_lexer": "ipython3",
   "version": "3.6.5"
  }
 },
 "nbformat": 4,
 "nbformat_minor": 4
}
