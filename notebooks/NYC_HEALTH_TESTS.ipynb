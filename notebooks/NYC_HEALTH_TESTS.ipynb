{
 "cells": [
  {
   "cell_type": "markdown",
   "metadata": {},
   "source": [
    "# NYCHealth Coronavirus (COVID-19) data\n",
    "### Original datasource: https://github.com/nychealth/coronavirus-data"
   ]
  },
  {
   "cell_type": "code",
   "execution_count": null,
   "metadata": {},
   "outputs": [],
   "source": [
    "import pandas as pd\n",
    "import numpy as np\n",
    "import os\n",
    "import requests\n",
    "import json\n",
    "import re\n",
    "import csv\n",
    "from datetime import datetime\n",
    "import pycountry"
   ]
  },
  {
   "cell_type": "code",
   "execution_count": null,
   "metadata": {},
   "outputs": [],
   "source": [
    "REPO_NAME = 'coronavirus-data'\n",
    "REPO_OWNER = 'nychealth'\n",
    "API_ENDPOINT = 'https://api.github.com/repos'\n",
    "RAW_DATA_ENDPOINT = 'https://raw.githubusercontent.com/'"
   ]
  },
  {
   "cell_type": "code",
   "execution_count": null,
   "metadata": {
    "tags": [
     "parameters"
    ]
   },
   "outputs": [],
   "source": [
    "# papermill parameters\n",
    "output_folder = \"../output/\""
   ]
  },
  {
   "cell_type": "code",
   "execution_count": null,
   "metadata": {},
   "outputs": [],
   "source": [
    "commits = []\n",
    "page = 1\n",
    "while True:\n",
    "    response = requests.get(f'{API_ENDPOINT}/{REPO_OWNER}/{REPO_NAME}/commits?path=totals/data-by-modzcta.csv&page={page}')\n",
    "    assert response.status_code == 200\n",
    "    commit_shas = list(map(lambda commit: (commit['commit']['author']['date'], commit['sha']), json.loads(response.text)))\n",
    "    if not len(commit_shas):\n",
    "        break\n",
    "    commits += commit_shas\n",
    "    page += 1"
   ]
  },
  {
   "cell_type": "code",
   "execution_count": null,
   "metadata": {},
   "outputs": [],
   "source": [
    "df = []\n",
    "for (date, commit) in commits:\n",
    "    \n",
    "    response = requests.get(f'{RAW_DATA_ENDPOINT}/{REPO_OWNER}/{REPO_NAME}/{commit}/totals/data-by-modzcta.csv')\n",
    "    if response.status_code == 200:\n",
    "        \n",
    "        csv_dict = csv.DictReader(response.text.split('\\n'))\n",
    "        for row in csv_dict:\n",
    "            if \"modzcta_cum_perc_pos\" in list(row):\n",
    "                row[\"zcta_cum.perc_pos\"] = row.pop(\"modzcta_cum_perc_pos\")\n",
    "            if \"modzcta\" in list(row):\n",
    "                row[\"MODZCTA\"] = row.pop(\"modzcta\")\n",
    "            row.update({'Date': date})  # add commit_date as field: Date\n",
    "            df.append(row)\n"
   ]
  },
  {
   "cell_type": "code",
   "execution_count": null,
   "metadata": {},
   "outputs": [],
   "source": [
    "df = pd.DataFrame(df)"
   ]
  },
  {
   "cell_type": "code",
   "execution_count": null,
   "metadata": {},
   "outputs": [],
   "source": [
    "df = df.replace(\".\", regex=False, value=\"NA\")\n",
    "df[\"TOTAL_COVID_TESTS\"] = df[\"TOTAL_COVID_TESTS\"].str.strip()"
   ]
  },
  {
   "cell_type": "code",
   "execution_count": null,
   "metadata": {},
   "outputs": [],
   "source": [
    "df['Date'] = pd.to_datetime(df['Date'], format=\"%Y-%m-%dT%H:%M:%SZ\")  # parse date\n",
    "df['MODIFIED_ZCTA'] = df['MODIFIED_ZCTA'].replace(['NA'], '99999')  # parse NA\n",
    "df['MODIFIED_ZCTA'] = df[\"MODIFIED_ZCTA\"].replace(\"\\.\", value=\"\", regex=True)"
   ]
  },
  {
   "cell_type": "code",
   "execution_count": null,
   "metadata": {},
   "outputs": [],
   "source": [
    "zcta_to_fips = pd.read_csv('https://www2.census.gov/geo/docs/maps-data/data/rel/zcta_county_rel_10.txt').set_index('ZCTA5')\n",
    "zcta_to_fips = zcta_to_fips[~zcta_to_fips.index.duplicated(keep='first')]\n",
    "df['FIPS'] = ''\n",
    "\n",
    "df['FIPS'].loc[df['MODIFIED_ZCTA'].fillna(\"99999\") != '99999'] = zcta_to_fips.loc[list(map(lambda x: int(x), df['MODIFIED_ZCTA'].loc[df['MODIFIED_ZCTA'].fillna(\"99999\") != '99999'].tolist())), 'GEOID'].tolist()\n",
    "df['FIPS'] = df[\"FIPS\"].replace(\"\\.\", value=\"\", regex=True)\n"
   ]
  },
  {
   "cell_type": "code",
   "execution_count": null,
   "metadata": {},
   "outputs": [],
   "source": [
    "df['Country_Region'] = \"United States\"\n",
    "df['ISO3166_1'] = \"US\"\n",
    "fips_to_state = pd.read_csv('https://raw.githubusercontent.com/kjhealy/fips-codes/master/county_fips_master.csv', encoding =\"ISO-8859-1\").set_index('fips')\n",
    "df['ISO3166_2'] = ''\n",
    "df['ISO3166_2'].loc[df['FIPS'] != ''] = fips_to_state.loc[df['FIPS'].loc[df['FIPS'] != ''].tolist()]['state_abbr'].tolist()"
   ]
  },
  {
   "cell_type": "code",
   "execution_count": null,
   "metadata": {},
   "outputs": [],
   "source": [
    "df['zcta_cum.perc_pos'] = df['PERCENT_POSITIVE'].replace('NA', np.nan)\n",
    "df['MODIFIED_ZCTA'] = df['MODIFIED_ZCTA'].replace('99999', '')"
   ]
  },
  {
   "cell_type": "code",
   "execution_count": null,
   "metadata": {},
   "outputs": [],
   "source": [
    "df = df.astype({\n",
    "    'COVID_CASE_COUNT': 'float32',\n",
    "    'TOTAL_COVID_TESTS': 'float32',\n",
    "    'PERCENT_POSITIVE': 'float32',\n",
    "    'FIPS': 'object'\n",
    "})"
   ]
  },
  {
   "cell_type": "code",
   "execution_count": null,
   "metadata": {},
   "outputs": [],
   "source": [
    "df.dtypes"
   ]
  },
  {
   "cell_type": "code",
   "execution_count": null,
   "metadata": {},
   "outputs": [],
   "source": [
    "df[\"Last_Updated_Date\"] = datetime.utcnow()\n",
    "df['Last_Reported_Date'] = df['Date'] == df['Date'].max()"
   ]
  },
  {
   "cell_type": "code",
   "execution_count": null,
   "metadata": {},
   "outputs": [],
   "source": [
    "df.to_csv(output_folder + \"NYC_HEALTH_TESTS.csv\", index=False, columns=[\n",
    "    \"MODIFIED_ZCTA\",\n",
    "    \"COVID_CASE_COUNT\",\n",
    "    \"TOTAL_COVID_TESTS\",\n",
    "    \"PERCENT_POSITIVE\",\n",
    "    \"Date\",\n",
    "    \"FIPS\",\n",
    "    \"Country_Region\",\n",
    "    \"ISO3166_1\",\n",
    "    \"ISO3166_2\",\n",
    "    \"Last_Updated_Date\",\n",
    "    \"Last_Reported_Date\"\n",
    "])"
   ]
  }
 ],
 "metadata": {
  "celltoolbar": "Tags",
  "kernelspec": {
   "display_name": "Python 3",
   "language": "python",
   "name": "python3"
  },
  "language_info": {
   "codemirror_mode": {
    "name": "ipython",
    "version": 3
   },
   "file_extension": ".py",
   "mimetype": "text/x-python",
   "name": "python",
   "nbconvert_exporter": "python",
   "pygments_lexer": "ipython3",
   "version": "3.6.5"
  }
 },
 "nbformat": 4,
 "nbformat_minor": 4
}
