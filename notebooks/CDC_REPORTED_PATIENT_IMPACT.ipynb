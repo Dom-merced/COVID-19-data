{
 "cells": [
  {
   "cell_type": "markdown",
   "metadata": {
    "collapsed": true,
    "pycharm": {
     "name": "#%% md\n"
    }
   },
   "source": [
    "# CDC reported inpatient beds time series\n",
    "\n",
    "* [Estimated inpatient beds](https://healthdata.gov/sites/default/files/estimated_inpatient_all_20210221_1631.csv)"
   ]
  },
  {
   "cell_type": "code",
   "execution_count": null,
   "metadata": {
    "pycharm": {
     "name": "#%%\n"
    }
   },
   "outputs": [],
   "source": [
    "import pandas as pd\n",
    "import numpy as np\n",
    "import pycountry\n",
    "import json\n",
    "from datetime import datetime\n",
    "from functools import reduce\n",
    "import requests\n",
    "from io import StringIO\n",
    "import re\n",
    "from bs4 import BeautifulSoup\n",
    "import requests"
   ]
  },
  {
   "cell_type": "code",
   "execution_count": null,
   "metadata": {
    "tags": [
     "parameters"
    ]
   },
   "outputs": [],
   "source": [
    "# papermill parameters\n",
    "output_folder = \"../output/\""
   ]
  },
  {
   "cell_type": "code",
   "execution_count": null,
   "metadata": {},
   "outputs": [],
   "source": [
    "datasource_site = \"https://healthdata.gov/Hospital/COVID-19-Reported-Patient-Impact-and-Hospital-Capa/g62h-syeh\"\n",
    "response = requests.get(datasource_site)\n",
    "assert response.status_code == 200\n",
    "url = \"https://healthdata.gov/api/views/g62h-syeh/rows.csv?accessType=DOWNLOAD\""
   ]
  },
  {
   "cell_type": "code",
   "execution_count": null,
   "metadata": {},
   "outputs": [],
   "source": [
    "# modified date  / 2021-03-13 13:06\n",
    "rpattern = re.search(r\"\\\"Last Update\\\":\\\"(202\\d-\\d{2}-\\d{2} \\d{2}:\\d{2})\\\"\", response.content.decode())\n",
    "modified_date = rpattern.group(1)"
   ]
  },
  {
   "cell_type": "code",
   "execution_count": null,
   "metadata": {},
   "outputs": [],
   "source": [
    "df = pd.read_csv(url)"
   ]
  },
  {
   "cell_type": "code",
   "execution_count": null,
   "metadata": {},
   "outputs": [],
   "source": [
    "states = [subdivision.code.replace(\"US-\", \"\") for subdivision in pycountry.subdivisions if subdivision.code.startswith(\"US-\")]\n",
    "df[\"ISO3166_1\"] = \"US\"\n",
    "df[\"ISO3166_2\"] = df[\"state\"]\n",
    "df[\"LAST_UPDATE_DATE\"] = modified_date\n",
    "df[\"LAST_UPDATE_DATE\"] = pd.to_datetime(df[\"LAST_UPDATE_DATE\"].astype(str), format='%Y-%m-%d %H:%M')\n",
    "df['Last_Reported_Flag'] = df['LAST_UPDATE_DATE'].max() == df['LAST_UPDATE_DATE']\n",
    "df = df[df[\"ISO3166_2\"].isin(states)]"
   ]
  },
  {
   "cell_type": "markdown",
   "metadata": {},
   "source": [
    "```sql\n",
    "CREATE OR REPLACE TABLE CDC_REPORTED_PATIENT_IMPACT (\n",
    "  STATE varchar(2),\n",
    "  CRITICAL_STAFFING_SHORTAGE_TODAY_YES integer,\n",
    "  CRITICAL_STAFFING_SHORTAGE_TODAY_NO integer,\n",
    "  CRITICAL_STAFFING_SHORTAGE_TODAY_NOT_REPORTED integer,\n",
    "  CRITICAL_STAFFING_SHORTAGE_ANTICIPATED_WITHIN_WEEK_YES integer,\n",
    "  CRITICAL_STAFFING_SHORTAGE_ANTICIPATED_WITHIN_WEEK_NO integer,\n",
    "  CRITICAL_STAFFING_SHORTAGE_ANTICIPATED_WITHIN_WEEK_NOT_REPORTED integer,\n",
    "  HOSPITAL_ONSET_COVID integer,\n",
    "  HOSPITAL_ONSET_COVID_COVERAGE integer,\n",
    "  INPATIENT_BEDS integer,\n",
    "  INPATIENT_BEDS_COVERAGE integer,\n",
    "  INPATIENT_BEDS_USED integer, \n",
    "  INPATIENT_BEDS_USED_COVERAGE integer,\n",
    "  INPATIENT_BEDS_USED_COVID integer, \n",
    "  INPATIENT_BEDS_USED_COVID_COVERAGE integer,\n",
    "  PREVIOUS_DAY_ADMISSION_ADULT_COVID_CONFIRMED integer,\n",
    "  PREVIOUS_DAY_ADMISSION_ADULT_COVID_CONFIRMED_COVERAGE integer,\n",
    "  PREVIOUS_DAY_ADMISSION_ADULT_COVID_SUSPECTED integer,\n",
    "  PREVIOUS_DAY_ADMISSION_ADULT_COVID_SUSPECTED_COVERAGE integer,\n",
    "  PREVIOUS_DAY_ADMISSION_PEDIATRIC_COVID_CONFIRMED integer,\n",
    "  PREVIOUS_DAY_ADMISSION_PEDIATRIC_COVID_CONFIRMED_COVERAGE integer,\n",
    "  PREVIOUS_DAY_ADMISSION_PEDIATRIC_COVID_SUSPECTED integer,\n",
    "  PREVIOUS_DAY_ADMISSION_PEDIATRIC_COVID_SUSPECTED_COVERAGE integer,\n",
    "  STAFFED_ADULT_ICU_BED_OCCUPANCY integer,\n",
    "  STAFFED_ADULT_ICU_BED_OCCUPANCY_COVERAGE integer,\n",
    "  STAFFED_ICU_ADULT_PATIENTS_CONFIRMED_AND_SUSPECTED_COVID integer,\n",
    "  STAFFED_ICU_ADULT_PATIENTS_CONFIRMED_AND_SUSPECTED_COVID_COVERAGE integer,\n",
    "  STAFFED_ICU_ADULT_PATIENTS_CONFIRMED_COVID integer,\n",
    "  STAFFED_ICU_ADULT_PATIENTS_CONFIRMED_COVID_COVERAGE integer,\n",
    "  TOTAL_ADULT_PATIENTS_HOSPITALIZED_CONFIRMED_AND_SUSPECTED_COVID integer,\n",
    "  TOTAL_ADULT_PATIENTS_HOSPITALIZED_CONFIRMED_AND_SUSPECTED_COVID_COVERAGE integer,\n",
    "  TOTAL_ADULT_PATIENTS_HOSPITALIZED_CONFIRMED_COVID integer,\n",
    "  TOTAL_ADULT_PATIENTS_HOSPITALIZED_CONFIRMED_COVID_COVERAGE integer,\n",
    "  TOTAL_PEDIATRIC_PATIENTS_HOSPITALIZED_CONFIRMED_AND_SUSPECTED_COVID integer,\n",
    "  TOTAL_PEDIATRIC_PATIENTS_HOSPITALIZED_CONFIRMED_AND_SUSPECTED_COVID_COVERAGE integer,\n",
    "  TOTAL_PEDIATRIC_PATIENTS_HOSPITALIZED_CONFIRMED_COVID integer,\n",
    "  TOTAL_PEDIATRIC_PATIENTS_HOSPITALIZED_CONFIRMED_COVID_COVERAGE integer, \n",
    "  TOTAL_STAFFED_ADULT_ICU_BEDS integer,\n",
    "  TOTAL_STAFFED_ADULT_ICU_BEDS_COVERAGE integer,\n",
    "  INPATIENT_BEDS_UTILIZATION float,\n",
    "  INPATIENT_BEDS_UTILIZATION_COVERAGE integer,\n",
    "  INPATIENT_BEDS_UTILIZATION_NUMERATOR integer,\n",
    "  INPATIENT_BEDS_UTILIZATION_DENOMINATOR integer, \n",
    "  PERCENT_OF_INPATIENTS_WITH_COVID float,\n",
    "  PERCENT_OF_INPATIENTS_WITH_COVID_COVERAGE integer,\n",
    "  PERCENT_OF_INPATIENTS_WITH_COVID_NUMERATOR integer,\n",
    "  PERCENT_OF_INPATIENTS_WITH_COVID_DENOMINATOR integer,\n",
    "  INPATIENT_BED_COVID_UTILIZATION float,\n",
    "  INPATIENT_BED_COVID_UTILIZATION_COVERAGE integer,\n",
    "  INPATIENT_BED_COVID_UTILIZATION_NUMERATOR integer,\n",
    "  INPATIENT_BED_COVID_UTILIZATION_DENOMINATOR integer,\n",
    "  ADULT_ICU_BED_COVID_UTILIZATION float,\n",
    "  ADULT_ICU_BED_COVID_UTILIZATION_COVERAGE integer,\n",
    "  ADULT_ICU_BED_COVID_UTILIZATION_NUMERATOR integer,\n",
    "  ADULT_ICU_BED_COVID_UTILIZATION_DENOMINATOR integer,\n",
    "  ADULT_ICU_BED_UTILIZATION float,\n",
    "  ADULT_ICU_BED_UTILIZATION_COVERAGE integer,\n",
    "  ADULT_ICU_BED_UTILIZATION_NUMERATOR integer,\n",
    "  ADULT_ICU_BED_UTILIZATION_DENOMINATOR integer,\n",
    "  date timestamp_ntz,\n",
    "  ISO3166_1 varchar(2),\n",
    "  ISO3166_2 varchar(2),\n",
    "  LAST_UPDATE_DATE timestamp_ntz,\n",
    "  LAST_REPORTED_FLAG boolean\n",
    ");\n",
    "```"
   ]
  },
  {
   "cell_type": "code",
   "execution_count": null,
   "metadata": {},
   "outputs": [],
   "source": [
    "df.sort_values(by=[\"state\", \"date\"],inplace=True)"
   ]
  },
  {
   "cell_type": "code",
   "execution_count": null,
   "metadata": {},
   "outputs": [],
   "source": [
    "df.to_csv(output_folder + \"CDC_REPORTED_PATIENT_IMPACT.csv\", index=False, columns=['state',\n",
    " 'critical_staffing_shortage_today_yes',\n",
    " 'critical_staffing_shortage_today_no',\n",
    " 'critical_staffing_shortage_today_not_reported',\n",
    " 'critical_staffing_shortage_anticipated_within_week_yes',\n",
    " 'critical_staffing_shortage_anticipated_within_week_no',\n",
    " 'critical_staffing_shortage_anticipated_within_week_not_reported',\n",
    " 'hospital_onset_covid',\n",
    " 'hospital_onset_covid_coverage',\n",
    " 'inpatient_beds',\n",
    " 'inpatient_beds_coverage',\n",
    " 'inpatient_beds_used',\n",
    " 'inpatient_beds_used_coverage',\n",
    " 'inpatient_beds_used_covid',\n",
    " 'inpatient_beds_used_covid_coverage',\n",
    " 'previous_day_admission_adult_covid_confirmed',\n",
    " 'previous_day_admission_adult_covid_confirmed_coverage',\n",
    " 'previous_day_admission_adult_covid_suspected',\n",
    " 'previous_day_admission_adult_covid_suspected_coverage',\n",
    " 'previous_day_admission_pediatric_covid_confirmed',\n",
    " 'previous_day_admission_pediatric_covid_confirmed_coverage',\n",
    " 'previous_day_admission_pediatric_covid_suspected',\n",
    " 'previous_day_admission_pediatric_covid_suspected_coverage',\n",
    " 'staffed_adult_icu_bed_occupancy',\n",
    " 'staffed_adult_icu_bed_occupancy_coverage',\n",
    " 'staffed_icu_adult_patients_confirmed_and_suspected_covid',\n",
    " 'staffed_icu_adult_patients_confirmed_and_suspected_covid_coverage',\n",
    " 'staffed_icu_adult_patients_confirmed_covid',\n",
    " 'staffed_icu_adult_patients_confirmed_covid_coverage',\n",
    " 'total_adult_patients_hospitalized_confirmed_and_suspected_covid',\n",
    " 'total_adult_patients_hospitalized_confirmed_and_suspected_covid_coverage',\n",
    " 'total_adult_patients_hospitalized_confirmed_covid',\n",
    " 'total_adult_patients_hospitalized_confirmed_covid_coverage',\n",
    " 'total_pediatric_patients_hospitalized_confirmed_and_suspected_covid',\n",
    " 'total_pediatric_patients_hospitalized_confirmed_and_suspected_covid_coverage',\n",
    " 'total_pediatric_patients_hospitalized_confirmed_covid',\n",
    " 'total_pediatric_patients_hospitalized_confirmed_covid_coverage',\n",
    " 'total_staffed_adult_icu_beds',\n",
    " 'total_staffed_adult_icu_beds_coverage',\n",
    " 'inpatient_beds_utilization',\n",
    " 'inpatient_beds_utilization_coverage',\n",
    " 'inpatient_beds_utilization_numerator',\n",
    " 'inpatient_beds_utilization_denominator',\n",
    " 'percent_of_inpatients_with_covid',\n",
    " 'percent_of_inpatients_with_covid_coverage',\n",
    " 'percent_of_inpatients_with_covid_numerator',\n",
    " 'percent_of_inpatients_with_covid_denominator',\n",
    " 'inpatient_bed_covid_utilization',\n",
    " 'inpatient_bed_covid_utilization_coverage',\n",
    " 'inpatient_bed_covid_utilization_numerator',\n",
    " 'inpatient_bed_covid_utilization_denominator',\n",
    " 'adult_icu_bed_covid_utilization',\n",
    " 'adult_icu_bed_covid_utilization_coverage',\n",
    " 'adult_icu_bed_covid_utilization_numerator',\n",
    " 'adult_icu_bed_covid_utilization_denominator',\n",
    " 'adult_icu_bed_utilization',\n",
    " 'adult_icu_bed_utilization_coverage',\n",
    " 'adult_icu_bed_utilization_numerator',\n",
    " 'adult_icu_bed_utilization_denominator',\n",
    " 'date',\n",
    " 'ISO3166_1',\n",
    " 'ISO3166_2',\n",
    " 'LAST_UPDATE_DATE',\n",
    " 'Last_Reported_Flag'])"
   ]
  }
 ],
 "metadata": {
  "celltoolbar": "Tags",
  "kernelspec": {
   "display_name": "Python 3",
   "language": "python",
   "name": "python3"
  },
  "language_info": {
   "codemirror_mode": {
    "name": "ipython",
    "version": 3
   },
   "file_extension": ".py",
   "mimetype": "text/x-python",
   "name": "python",
   "nbconvert_exporter": "python",
   "pygments_lexer": "ipython3",
   "version": "3.6.5"
  }
 },
 "nbformat": 4,
 "nbformat_minor": 1
}
