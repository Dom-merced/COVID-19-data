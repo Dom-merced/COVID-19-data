{
 "cells": [
  {
   "cell_type": "markdown",
   "metadata": {
    "collapsed": true,
    "pycharm": {
     "name": "#%% md\n"
    }
   },
   "source": [
    "# CDC testing data\n",
    "\n",
    "* [CDC testing time series](https://healthdata.gov/dataset/covid-19-diagnostic-laboratory-testing-pcr-testing-time-series)"
   ]
  },
  {
   "cell_type": "markdown",
   "metadata": {},
   "source": [
    "DDL:\n",
    "    \n",
    "```sql\n",
    "CREATE TABLE CDC_TESTING (\n",
    "    ISO3166_1 varchar(2),\n",
    "    ISO3166_2 varchar(2),\n",
    "    DATE timestamp_ntz,\n",
    "    POSITIVE integer,\n",
    "    NEGATIVE integer,\n",
    "    INCONCLUSIVE integer\n",
    ")\n",
    "```"
   ]
  },
  {
   "cell_type": "code",
   "execution_count": null,
   "metadata": {
    "pycharm": {
     "name": "#%%\n"
    }
   },
   "outputs": [],
   "source": [
    "import pandas as pd\n",
    "import numpy as np\n",
    "import pycountry\n",
    "import json\n",
    "from datetime import datetime\n",
    "from functools import reduce\n",
    "import requests\n",
    "from io import StringIO\n",
    "import re\n",
    "from requests import HTTPError\n",
    "from bs4 import BeautifulSoup"
   ]
  },
  {
   "cell_type": "code",
   "execution_count": null,
   "metadata": {
    "pycharm": {
     "name": "#%%\n"
    }
   },
   "outputs": [],
   "source": [
    "LOOKBACK: int = 4"
   ]
  },
  {
   "cell_type": "code",
   "execution_count": null,
   "metadata": {
    "tags": [
     "parameters"
    ]
   },
   "outputs": [],
   "source": [
    "# papermill parameters\n",
    "\n",
    "output_folder = \"../output/\""
   ]
  },
  {
   "cell_type": "code",
   "execution_count": null,
   "metadata": {},
   "outputs": [],
   "source": [
    "# Get today's path\n",
    "\n",
    "def get_url(day_offset:int=1) -> str:\n",
    "    y, m, d = datetime.now().year, datetime.now().month, datetime.now().day\n",
    "    url = f\"https://healthdata.gov/sites/default/files/covid-19_diagnostic_lab_testing_{y}{m:02d}{d-day_offset:02d}_2203.csv\"\n",
    "    return url"
   ]
  },
  {
   "cell_type": "code",
   "execution_count": null,
   "metadata": {},
   "outputs": [],
   "source": [
    "states = [subdivision.code.replace(\"US-\", \"\") for subdivision in pycountry.subdivisions if subdivision.code.startswith(\"US-\")]"
   ]
  },
  {
   "cell_type": "code",
   "execution_count": null,
   "metadata": {},
   "outputs": [],
   "source": [
    "path = \"https://healthdata.gov/dataset/covid-19-diagnostic-laboratory-testing-pcr-testing-time-series\"\n",
    "\n",
    "response = requests.get(path)\n",
    "assert response.status_code == 200\n",
    "soup = BeautifulSoup(response.content)\n",
    "link = soup.find(\"a\", {\"class\": \"data-link\"})\n",
    "assert link\n",
    "url = link[\"href\"]"
   ]
  },
  {
   "cell_type": "code",
   "execution_count": null,
   "metadata": {},
   "outputs": [],
   "source": [
    "df = pd.read_csv(url)\n",
    "df = df[[\"state\", \"overall_outcome\", \"date\", \"new_results_reported\"]].pivot(index=[\"state\", \"date\"], values=[\"new_results_reported\"], columns=[\"overall_outcome\"])\n",
    "df = pd.DataFrame(df.to_records())\n",
    "df.columns = [\"ISO3166_2\", \"DATE\", \"INCONCLUSIVE\", \"POSITIVE\", \"NEGATIVE\"]\n",
    "df[\"ISO3166_1\"] = \"US\"\n",
    "df.to_csv(output_folder + \"CDC_TESTING.csv\", index=False, columns=[\"ISO3166_1\",\n",
    "                                                                   \"ISO3166_2\",\n",
    "                                                                   \"DATE\",\n",
    "                                                                   \"POSITIVE\",\n",
    "                                                                   \"NEGATIVE\",\n",
    "                                                                   \"INCONCLUSIVE\"])\n"
   ]
  },
  {
   "cell_type": "code",
   "execution_count": null,
   "metadata": {},
   "outputs": [],
   "source": [
    "# for i in range(LOOKBACK):\n",
    "#     try:\n",
    "#         print(get_url(i))\n",
    "#         df = pd.read_csv(get_url(i))\n",
    "#         print(f\"Read CSV with {i} days' offset.\")\n",
    "#         df = df[[\"state\", \"overall_outcome\", \"date\", \"new_results_reported\"]].pivot(index=[\"state\", \"date\"], values=[\"new_results_reported\"], columns=[\"overall_outcome\"])\n",
    "#         df = pd.DataFrame(df.to_records())\n",
    "#         df.columns = [\"ISO3166_2\", \"DATE\", \"INCONCLUSIVE\", \"POSITIVE\", \"NEGATIVE\"]\n",
    "#         df[\"ISO3166_1\"] = \"US\"\n",
    "#         print(df.head())\n",
    "#         df.to_csv(output_folder + \"CDC_TESTING.csv\", index=False, columns=[\"ISO3166_1\",\n",
    "#                                                                            \"ISO3166_2\",\n",
    "#                                                                            \"DATE\",\n",
    "#                                                                            \"POSITIVE\",\n",
    "#                                                                            \"NEGATIVE\",\n",
    "#                                                                            \"INCONCLUSIVE\"])\n",
    "#         break\n",
    "#     except Exception:\n",
    "#         continue"
   ]
  }
 ],
 "metadata": {
  "celltoolbar": "Tags",
  "kernelspec": {
   "display_name": "Python 3",
   "language": "python",
   "name": "python3"
  },
  "language_info": {
   "codemirror_mode": {
    "name": "ipython",
    "version": 3
   },
   "file_extension": ".py",
   "mimetype": "text/x-python",
   "name": "python",
   "nbconvert_exporter": "python",
   "pygments_lexer": "ipython3",
   "version": "3.6.5"
  },
  "toc": {
   "base_numbering": 1,
   "nav_menu": {},
   "number_sections": true,
   "sideBar": true,
   "skip_h1_title": false,
   "title_cell": "Table of Contents",
   "title_sidebar": "Contents",
   "toc_cell": false,
   "toc_position": {},
   "toc_section_display": true,
   "toc_window_display": false
  }
 },
 "nbformat": 4,
 "nbformat_minor": 1
}
