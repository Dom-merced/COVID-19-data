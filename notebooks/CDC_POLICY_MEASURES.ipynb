{
 "cells": [
  {
   "cell_type": "markdown",
   "metadata": {
    "collapsed": true,
    "pycharm": {
     "name": "#%% md\n"
    }
   },
   "source": [
    "# CDC State and County Policy Measures\n",
    "\n",
    "* [COVID-19 State and County Policy Orders](https://healthdata.gov/dataset/covid-19-state-and-county-policy-orders)"
   ]
  },
  {
   "cell_type": "code",
   "execution_count": null,
   "metadata": {
    "pycharm": {
     "name": "#%%\n"
    }
   },
   "outputs": [],
   "source": [
    "import pandas as pd\n",
    "import numpy as np\n",
    "import pycountry\n",
    "import json\n",
    "from datetime import datetime\n",
    "from functools import reduce\n",
    "import requests\n",
    "from io import StringIO\n",
    "import re\n",
    "from bs4 import BeautifulSoup\n",
    "import requests"
   ]
  },
  {
   "cell_type": "code",
   "execution_count": null,
   "metadata": {
    "pycharm": {
     "name": "#%%\n"
    },
    "tags": [
     "parameters"
    ]
   },
   "outputs": [],
   "source": [
    "# papermill parameters\n",
    "output_folder = \"../output/\""
   ]
  },
  {
   "cell_type": "code",
   "execution_count": null,
   "metadata": {},
   "outputs": [],
   "source": [
    "datasource_site = \"https://healthdata.gov/dataset/COVID-19-State-and-County-Policy-Orders/gyqz-9u7n\"\n",
    "response = requests.get(datasource_site)\n",
    "assert response.status_code == 200\n",
    "url = \"https://healthdata.gov/api/views/gyqz-9u7n/rows.csv?accessType=DOWNLOAD\""
   ]
  },
  {
   "cell_type": "code",
   "execution_count": null,
   "metadata": {},
   "outputs": [],
   "source": [
    "# modified date\n",
    "rpattern = re.search(r\"\\\"Last Update\\\":\\\"(\\w+ \\d{1,2}, 202\\d \\d{2}:\\d{2})\\\"\", response.content.decode())\n",
    "modified_date = rpattern.group(1)"
   ]
  },
  {
   "cell_type": "code",
   "execution_count": null,
   "metadata": {},
   "outputs": [],
   "source": [
    "modified_date"
   ]
  },
  {
   "cell_type": "code",
   "execution_count": null,
   "metadata": {},
   "outputs": [],
   "source": [
    "df = pd.read_csv(url)"
   ]
  },
  {
   "cell_type": "code",
   "execution_count": null,
   "metadata": {},
   "outputs": [],
   "source": [
    "datetime.strptime('March 15, 2021', '%B %d, %Y')"
   ]
  },
  {
   "cell_type": "code",
   "execution_count": null,
   "metadata": {
    "pycharm": {
     "name": "#%%\n"
    }
   },
   "outputs": [],
   "source": [
    "states = [subdivision.code.replace(\"US-\", \"\") for subdivision in pycountry.subdivisions if subdivision.code.startswith(\"US-\")]\n",
    "df[\"ISO3166_1\"] = \"US\"\n",
    "df[\"ISO3166_2\"] = df[\"state_id\"]\n",
    "df[\"LAST_UPDATE_DATE\"] = modified_date\n",
    "df[\"LAST_UPDATE_DATE\"] = pd.to_datetime(df[\"LAST_UPDATE_DATE\"].astype(str), format='%B %d, %Y %H:%M')\n",
    "df['Last_Reported_Flag'] = df['LAST_UPDATE_DATE'].max() == df['LAST_UPDATE_DATE']\n",
    "df = df[df[\"ISO3166_2\"].isin(states)]"
   ]
  },
  {
   "cell_type": "markdown",
   "metadata": {},
   "source": [
    "```sql\n",
    "CREATE OR REPLACE TABLE POLICY_MEASURES (\n",
    "  STATE_ID varchar(2),\n",
    "  COUNTY varchar,\n",
    "  FIPS_CODE float,\n",
    "  POLICY_LEVEL varchar(32),\n",
    "  DATE timestamp_ntz,\n",
    "  POLICY_TYPE varchar(64),\n",
    "  START_STOP varchar(5),\n",
    "  COMMENTS varchar,\n",
    "  SOURCE varchar,\n",
    "  TOTAL_PHASE float,\n",
    "  ISO3166_1 varchar(2),\n",
    "  ISO3166_2 varchar(5),\n",
    "  LAST_UPDATE_DATE timestamp_ntz,\n",
    "  LAST_REPORTED_FLAG boolean\n",
    ");\n",
    "```"
   ]
  },
  {
   "cell_type": "code",
   "execution_count": null,
   "metadata": {},
   "outputs": [],
   "source": [
    "df.dtypes"
   ]
  },
  {
   "cell_type": "code",
   "execution_count": null,
   "metadata": {
    "pycharm": {
     "name": "#%%\n"
    }
   },
   "outputs": [],
   "source": [
    "df.to_csv(output_folder + \"CDC_POLICY_MEASURES.csv\", index=False, columns=['state_id',\n",
    " 'county',\n",
    " 'fips_code',\n",
    " 'policy_level',\n",
    " 'date',\n",
    " 'policy_type',\n",
    " 'start_stop',\n",
    " 'comments',\n",
    " 'source',\n",
    " 'total_phases',\n",
    " 'ISO3166_1',\n",
    " 'ISO3166_2',\n",
    " 'LAST_UPDATE_DATE',\n",
    " 'Last_Reported_Flag'])"
   ]
  }
 ],
 "metadata": {
  "celltoolbar": "Tags",
  "kernelspec": {
   "display_name": "Python 3",
   "language": "python",
   "name": "python3"
  },
  "language_info": {
   "codemirror_mode": {
    "name": "ipython",
    "version": 3
   },
   "file_extension": ".py",
   "mimetype": "text/x-python",
   "name": "python",
   "nbconvert_exporter": "python",
   "pygments_lexer": "ipython3",
   "version": "3.6.5"
  }
 },
 "nbformat": 4,
 "nbformat_minor": 1
}
