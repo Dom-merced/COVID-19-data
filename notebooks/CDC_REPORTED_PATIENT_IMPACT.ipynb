{
 "cells": [
  {
   "cell_type": "markdown",
   "metadata": {
    "collapsed": true,
    "pycharm": {
     "name": "#%% md\n"
    }
   },
   "source": [
    "# CDC reported inpatient beds time series\n",
    "\n",
    "* [Estimated inpatient beds](https://healthdata.gov/sites/default/files/estimated_inpatient_all_20210221_1631.csv)"
   ]
  },
  {
   "cell_type": "code",
   "execution_count": 8,
   "source": [
    "import pandas as pd\n",
    "import numpy as np\n",
    "import pycountry\n",
    "import json\n",
    "from datetime import datetime\n",
    "from functools import reduce\n",
    "import requests\n",
    "from io import StringIO\n",
    "import re"
   ],
   "metadata": {
    "collapsed": false,
    "pycharm": {
     "name": "#%%\n"
    }
   }
  },
  {
   "cell_type": "code",
   "execution_count": 9,
   "source": [
    "# papermill parameters\n",
    "output_folder = \"../output/\""
   ],
   "metadata": {
    "collapsed": false,
    "tags": [
     "parameters"
    ]
    "pycharm": {
     "name": "#%%\n"
    }
   }
  },
  {
   "cell_type": "code",
   "execution_count": 22,
   "source": [
    "# Get today's path\n",
    "\n",
    "y, m, d = datetime.now().year, datetime.now().month, datetime.now().day\n",
    "\n",
    "url = f\"https://healthdata.gov/sites/default/files/reported_hospital_utilization_{y}{m:02d}{d-1:02d}_2305.csv\"\n"
   ],
   "metadata": {
    "collapsed": false,
    "pycharm": {
     "name": "#%%\n"
    }
   }
  },
  {
   "cell_type": "code",
   "execution_count": 23,
   "source": [
    "states = [subdivision.code.replace(\"US-\", \"\") for subdivision in pycountry.subdivisions if subdivision.code.startswith(\"US-\")]"
   ],
   "metadata": {
    "collapsed": false,
    "pycharm": {
     "name": "#%%\n"
    }
   }
  },
  {
   "cell_type": "code",
   "execution_count": 24,
   "source": [
    "def grab_and_augment_table(url: str) -> pd.DataFrame:\n",
    "    try:\n",
    "        df = pd.read_csv(url)\n",
    "        df[\"ISO3166_1\"] = \"US\"\n",
    "        df[\"ISO3166_2\"] = df[\"state\"]\n",
    "        df[\"DATE\"] = f\"{y}-{m}-{d}\"\n",
    "        return df[df[\"ISO3166_2\"].isin(states)]\n",
    "    except Exception as e:\n",
    "        pass"
   ],
   "metadata": {
    "collapsed": false,
    "pycharm": {
     "name": "#%%\n"
    }
   }
  },
  {
   "cell_type": "code",
   "execution_count": 25,
   "source": [
    "reported_beds = grab_and_augment_table(url)"
   ],
   "metadata": {
    "collapsed": false,
    "pycharm": {
     "name": "#%%\n"
    }
   }
  },
  {
   "cell_type": "code",
   "execution_count": null,
   "outputs": [],
   "source": [
    "reported_beds.to_csv(output_folder + \"CDC_REPORTED_PATIENT_IMPACT.csv\", index=False, columns=inpatient_beds.columns)"
   ],
   "metadata": {
    "collapsed": false,
    "pycharm": {
     "name": "#%%\n"
    }
   }
  }
 ],
 "metadata": {
  "kernelspec": {
   "display_name": "Python 3",
   "language": "python",
   "name": "python3"
  },
  "language_info": {
   "codemirror_mode": {
    "name": "ipython",
    "version": 2
   },
   "file_extension": ".py",
   "mimetype": "text/x-python",
   "name": "python",
   "nbconvert_exporter": "python",
   "pygments_lexer": "ipython2",
   "version": "2.7.6"
  }
 },
 "nbformat": 4,
 "nbformat_minor": 0
}
