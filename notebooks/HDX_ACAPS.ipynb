{
 "cells": [
  {
   "cell_type": "markdown",
   "metadata": {},
   "source": [
    "# HDX ACAPS data import"
   ]
  },
  {
   "cell_type": "code",
   "execution_count": null,
   "metadata": {},
   "outputs": [],
   "source": [
    "import pandas as pd\n",
    "import xlrd\n",
    "import pycountry"
   ]
  },
  {
   "cell_type": "code",
   "execution_count": null,
   "metadata": {
    "tags": [
     "parameters"
    ]
   },
   "outputs": [],
   "source": [
    "# papermill parameters\n",
    "output_folder = '../output/'"
   ]
  },
  {
   "cell_type": "code",
   "execution_count": null,
   "metadata": {},
   "outputs": [],
   "source": [
    "df = pd.read_excel(\"https://data.humdata.org/dataset/e1a91ae0-292d-4434-bc75-bf863d4608ba/resource/ccec137f-8c1c-4e77-afb0-084fe927c08a/download/20200330-acaps-covid-19-goverment-measures-dataset-v3.xlsx\",\n",
    "                   sheet_name=\"Database\")"
   ]
  },
  {
   "cell_type": "code",
   "execution_count": null,
   "metadata": {},
   "outputs": [],
   "source": [
    "def get_country(row):\n",
    "    country = pycountry.countries.get(alpha_3=row.ISO)\n",
    "    \n",
    "    if country:\n",
    "        return country.alpha_2\n",
    "    else:\n",
    "        return \"\""
   ]
  },
  {
   "cell_type": "code",
   "execution_count": null,
   "metadata": {},
   "outputs": [],
   "source": [
    "df[\"ISO3166_1\"] = df.apply(get_country, axis=1)"
   ]
  },
  {
   "cell_type": "code",
   "execution_count": null,
   "metadata": {},
   "outputs": [],
   "source": [
    "df = df.drop(columns=[\"ISO\", \"REGION\", \"Alternative source\"], axis=1)"
   ]
  },
  {
   "cell_type": "code",
   "execution_count": null,
   "metadata": {},
   "outputs": [],
   "source": [
    "df = df.rename(columns={\n",
    "    \"COUNTRY\": \"COUNTRY_STATE\",\n",
    "    \"ADMIN_LEVEL_NAME\": \"ADMIN_2\"\n",
    "})"
   ]
  },
  {
   "cell_type": "code",
   "execution_count": null,
   "metadata": {},
   "outputs": [],
   "source": [
    "df.to_csv(path_or_buf=output_folder + \"HDX_ACAPS.csv\",\n",
    "          columns=[\n",
    "              \"COUNTRY_STATE\", \"ADMIN_2\", \"REGION\", \"CATEGORY\", \"MEASURE\",\n",
    "              \"TARGETED_POP_GROUP\", \"COMMENTS\", \"NON_COMPLIANCE\",\n",
    "              \"DATE_IMPLEMENTED\", \"SOURCE\", \"SOURCE_TYPE\", \"LINK\",\n",
    "              \"ENTRY_DATE\", \"ISO3166_1\"\n",
    "          ], index=False)"
   ]
  }
 ],
 "metadata": {
  "celltoolbar": "Tags",
  "kernelspec": {
   "display_name": "Python 3",
   "language": "python",
   "name": "python3"
  },
  "language_info": {
   "codemirror_mode": {
    "name": "ipython",
    "version": 3
   },
   "file_extension": ".py",
   "mimetype": "text/x-python",
   "name": "python",
   "nbconvert_exporter": "python",
   "pygments_lexer": "ipython3",
   "version": "3.7.5"
  }
 },
 "nbformat": 4,
 "nbformat_minor": 4
}
