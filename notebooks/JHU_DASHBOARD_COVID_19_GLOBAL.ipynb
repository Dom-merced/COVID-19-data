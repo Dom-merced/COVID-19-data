{
 "cells": [
  {
   "cell_type": "markdown",
   "metadata": {},
   "source": [
    "# Center for Systems Science and Engineering (CSSE) at Johns Hopkins University (JHU): COVID-19 Dashboard\n",
    "\n",
    "Data from https://gisanddata.maps.arcgis.com/apps/opsdashboard/index.html using arcgis REST API"
   ]
  },
  {
   "cell_type": "code",
   "execution_count": null,
   "metadata": {},
   "outputs": [],
   "source": [
    "import pandas as pd\n",
    "import requests\n",
    "import json\n",
    "import pycountry\n",
    "from datetime import datetime"
   ]
  },
  {
   "cell_type": "code",
   "execution_count": null,
   "metadata": {
    "tags": [
     "parameters"
    ]
   },
   "outputs": [],
   "source": [
    "# papermill parameters\n",
    "output_folder = \"../output\""
   ]
  },
  {
   "cell_type": "markdown",
   "metadata": {},
   "source": [
    "#### Fetch record, row count, set rest api params"
   ]
  },
  {
   "cell_type": "code",
   "execution_count": null,
   "metadata": {},
   "outputs": [],
   "source": [
    "endpoint = \"https://services9.arcgis.com/N9p5hsImWXAccRNI/arcgis/rest/services/Nc2JKvYFoAEOFCG5JSI6/FeatureServer/2/query?where=1%3D1&objectIds=&time=&geometry=&geometryType=esriGeometryEnvelope&inSR=&spatialRel=esriSpatialRelIntersects&resultType=none&distance=0.0&units=esriSRUnit_Meter&returnGeodetic=false&outFields=*&returnGeometry=true&returnCentroid=false&featureEncoding=esriDefault&multipatchOption=xyFootprint&maxAllowableOffset=&geometryPrecision=&outSR=&datumTransformation=&applyVCSProjection=false&returnIdsOnly=false&returnUniqueIdsOnly=false&returnExtentOnly=false&returnQueryGeometry=false&returnDistinctValues=false&cacheHint=false&orderByFields=&groupByFieldsForStatistics=&outStatistics=&having=&returnZ=false&returnM=false&returnExceededLimitFeatures=true&quantizationParameters=&sqlFormat=none&f=pjson\"\n",
    "headers = {\"Referer\": \"https://gisanddata.maps.arcgis.com/apps/opsdashboard/index.html\"}\n",
    "response = requests.get(endpoint + \"&returnCountOnly=true\", headers=headers)\n",
    "\n",
    "# check request status is HTTP_OK\n",
    "assert response.status_code is 200\n",
    "\n",
    "# load to json\n",
    "data = json.loads(response.text)\n",
    "\n",
    "# set query fetch params\n",
    "record_count = data['count']\n",
    "offset = 0\n",
    "record_fetch_count = 2000\n",
    "fields = None\n",
    "records = []\n",
    "\n",
    "print(record_count)"
   ]
  },
  {
   "cell_type": "markdown",
   "metadata": {},
   "source": [
    "#### Fetch records using Arcgis RestAPI, create Dataframe from records"
   ]
  },
  {
   "cell_type": "code",
   "execution_count": null,
   "metadata": {},
   "outputs": [],
   "source": [
    "while offset < record_count:\n",
    "    response = requests.get(endpoint + f\"&resultRecordCount={record_fetch_count}&resultOffset={offset}\", headers=headers)\n",
    "    # check if request status code is HTTP_OK \n",
    "    assert response.status_code is 200\n",
    "    \n",
    "    # load to json\n",
    "    data = json.loads(response.text)\n",
    "    \n",
    "    # set fields\n",
    "    if not fields:\n",
    "        fields = list(map(lambda f: f['name'],data['fields']))\n",
    "    \n",
    "    data = list(map(lambda record: record['attributes'].values(), data['features']))\n",
    "    \n",
    "    # add to records\n",
    "    records += data\n",
    "    \n",
    "    # set params\n",
    "    offset += record_fetch_count\n",
    "    \n",
    "assert len(records) == record_count\n",
    "records = dict(zip(range(len(records)), records)) \n",
    "df = pd.DataFrame.from_dict(records, orient=\"index\", columns=fields)"
   ]
  },
  {
   "cell_type": "markdown",
   "metadata": {},
   "source": [
    "#### Parse date, drop unnecessary columns, rename columns "
   ]
  },
  {
   "cell_type": "code",
   "execution_count": null,
   "metadata": {
    "scrolled": true
   },
   "outputs": [],
   "source": [
    "df = df.drop(columns=[\"OBJECTID\", \"UID\"])\n",
    "df = df.rename(columns={\"Long_\": \"Long\", \"Last_Update\": \"Date\"})\n",
    "df[\"Date\"] = pd.to_datetime(df[\"Date\"], unit=\"ms\")"
   ]
  },
  {
   "cell_type": "code",
   "execution_count": null,
   "metadata": {
    "scrolled": false
   },
   "outputs": [],
   "source": [
    "df.head()"
   ]
  },
  {
   "cell_type": "markdown",
   "metadata": {},
   "source": [
    "#### create pycountry data resolve helper functions"
   ]
  },
  {
   "cell_type": "code",
   "execution_count": null,
   "metadata": {},
   "outputs": [],
   "source": [
    "def resolve_iso3166_1_by_iso3(iso):\n",
    "    # get iso3166_1 from iso3166_3\n",
    "    \n",
    "    if iso and len(iso):\n",
    "        if pycountry.countries.get(alpha_3=iso):\n",
    "            return pycountry.countries.get(alpha_3=iso).alpha_2\n",
    "    return \"\"\n",
    "\n",
    "def resolve_iso3166_1_by_name(name):\n",
    "    # get iso3166_1 from name using fuzzy search\n",
    "    \n",
    "    if name and len(name):\n",
    "        try:\n",
    "            res = pycountry.countries.search_fuzzy(name)  # according to docs: \"...There’s also a bit of prioritization included to prefer matches on country names before subdivision names and have countries with more matches be listed before ones with fewer matches...\"\n",
    "            return pycountry.countries.search_fuzzy(name)[0].alpha_3\n",
    "        except LookupError: # Lookup is thrown by pycountry search_fuzzy function when result is empty (catch IndexError is redundant)\n",
    "            return \"\"\n",
    "        \n",
    "def resolve_name(row):\n",
    "    try:\n",
    "        lookup = pycountry.countries.get(alpha_2=row[\"ISO3166_1\"])\n",
    "        row[\"Country_Region\"] = lookup.name\n",
    "        return row\n",
    "    except (LookupError, KeyError, AttributeError):\n",
    "        return row"
   ]
  },
  {
   "cell_type": "code",
   "execution_count": null,
   "metadata": {
    "scrolled": false
   },
   "outputs": [],
   "source": [
    "df['ISO3166_1'] = df['ISO3'].apply(lambda row: resolve_iso3166_1_by_iso3(row))\n",
    "\n",
    "# if iso3166_3 cannot resolve, try using fuzzy search, select top match \n",
    "df['ISO3166_1'].loc[df['ISO3166_1'] == ''] = df.loc[df['ISO3166_1'] == '']['Country_Region'].apply(lambda row: resolve_iso3166_1_by_name(row))\n",
    "\n",
    "# when fuzzy search cannot resolve iso3166_2 means that entity is a cruise ship\n",
    "df['ISO3166_1'].loc[df['ISO3166_1'] == ''] = 'Cruise Ship'\n",
    "\n",
    "# drop iso3166_3\n",
    "df = df.drop(columns=[\"ISO3\"])\n",
    "\n",
    "# resolve names for data consistency\n",
    "df = df.apply(lambda row: resolve_name(row), axis=1)"
   ]
  },
  {
   "cell_type": "code",
   "execution_count": null,
   "metadata": {},
   "outputs": [],
   "source": [
    "df['Last_Reported_Flag'] = df[\"Date\"].max() == df[\"Date\"]  # Date updated by rows in dataset (possible chance of only one record being \"last_reported\")\n",
    "df[\"Last_Update_Date\"] = datetime.utcnow()"
   ]
  },
  {
   "cell_type": "code",
   "execution_count": null,
   "metadata": {},
   "outputs": [],
   "source": [
    "df.head()"
   ]
  },
  {
   "cell_type": "code",
   "execution_count": null,
   "metadata": {},
   "outputs": [],
   "source": [
    "df.to_csv(output_folder + \"JHU_DASHBOARD_COVID_19_GLOBAL.csv\", index=False)"
   ]
  }
 ],
 "metadata": {
  "celltoolbar": "Tags",
  "kernelspec": {
   "display_name": "Python 3",
   "language": "python",
   "name": "python3"
  },
  "language_info": {
   "codemirror_mode": {
    "name": "ipython",
    "version": 3
   },
   "file_extension": ".py",
   "mimetype": "text/x-python",
   "name": "python",
   "nbconvert_exporter": "python",
   "pygments_lexer": "ipython3",
   "version": "3.7.6"
  }
 },
 "nbformat": 4,
 "nbformat_minor": 4
}
