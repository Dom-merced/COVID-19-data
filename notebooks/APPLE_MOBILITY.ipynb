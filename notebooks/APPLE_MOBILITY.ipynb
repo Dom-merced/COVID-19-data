{
 "cells": [
  {
   "cell_type": "markdown",
   "id": "impressive-reward",
   "metadata": {},
   "source": [
    "# Apple Mobility Trends Report\n",
    "\n",
    "Data from https://covid19.apple.com/mobility"
   ]
  },
  {
   "cell_type": "code",
   "execution_count": null,
   "id": "unusual-violation",
   "metadata": {},
   "outputs": [],
   "source": [
    "import pandas as pd\n",
    "import numpy as np\n",
    "import pycountry\n",
    "import json\n",
    "from datetime import datetime\n",
    "from functools import reduce\n",
    "import requests\n",
    "from io import StringIO\n",
    "import re"
   ]
  },
  {
   "cell_type": "code",
   "execution_count": null,
   "id": "exterior-drill",
   "metadata": {
    "tags": [
     "parameters"
    ]
   },
   "outputs": [],
   "source": [
    "# papermill parameters\n",
    "output_folder = \"../output/\""
   ]
  },
  {
   "cell_type": "code",
   "execution_count": null,
   "id": "conservative-pavilion",
   "metadata": {},
   "outputs": [],
   "source": [
    "# get today's path\n",
    "prefix = \"https://covid19-static.cdn-apple.com\"\n",
    "response = requests.get(prefix + \"/covid19-mobility-data/current/v3/index.json\")\n",
    "assert response.status_code == 200\n",
    "body = json.loads(response.text)\n",
    "# get data version\n",
    "version = body[\"basePath\"]\n",
    "csv_path = body[\"regions\"][\"en-us\"][\"csvPath\"]\n",
    "\n",
    "path = prefix + version + csv_path\n",
    "file_response = requests.get(path)"
   ]
  },
  {
   "cell_type": "code",
   "execution_count": null,
   "id": "collect-reviewer",
   "metadata": {},
   "outputs": [],
   "source": [
    "df = pd.read_csv(StringIO(file_response.content.decode(\"utf-8\")))"
   ]
  },
  {
   "cell_type": "code",
   "execution_count": null,
   "id": "satellite-schema",
   "metadata": {},
   "outputs": [],
   "source": [
    "subdivisions = {}\n",
    "def resolve_region(geo_type, region, sub_region, country):\n",
    "    \n",
    "    if geo_type == \"country/region\":\n",
    "        # get iso_3166_1\n",
    "        pycountry_object = pycountry.countries.get(name=region) or pycountry.countries.search_fuzzy(region)\n",
    "        if pycountry_object:\n",
    "            if isinstance(pycountry_object, list):\n",
    "                pycountry_object = pycountry_object[0]\n",
    "            country_code = pycountry_object.alpha_2\n",
    "            country_name = pycountry_object.name\n",
    "            df.loc[(df[\"geo_type\"] == geo_type) & (df[\"region\"] == region), \"ISO3166-1\"] = country_code\n",
    "            df.loc[(df[\"geo_type\"] == geo_type) & (df[\"region\"] == region), \"region\"] = country_name\n",
    "        else:\n",
    "            country_code\n",
    "            print(f\"unable to parse country: {country}\")\n",
    "    else:\n",
    "        pycountry_object = pycountry.countries.get(name=country) or pycountry.countries.search_fuzzy(country)\n",
    "        if pycountry_object:\n",
    "            if isinstance(pycountry_object, list):\n",
    "                pycountry_object = pycountry_object[0]\n",
    "            country_code = pycountry_object.alpha_2\n",
    "            # country_name = pycountry_object.name\n",
    "            df.loc[(df[\"geo_type\"] == geo_type) & (df[\"country\"] == country), \"ISO3166-1\"] = country_code\n",
    "            # df.loc[(df[\"geo_type\"] == geo_type) & (df[\"country\"] == country), \"region\"] = country_name\n",
    "        else:\n",
    "            print(f\"unable to parse non-country: {country}\")\n",
    "    \n",
    "    if country_code not in list(subdivisions):\n",
    "        sub = pycountry.subdivisions.get(country_code=country_code)\n",
    "        subdivision_dict = {subdivision.name: subdivision.code for subdivision in sub}\n",
    "        subdivisions[country_code] = subdivision_dict\n",
    "    name = np.nan\n",
    "    if geo_type != \"country/region\" and country_code in list(subdivisions):\n",
    "        if geo_type in [\"county\", \"city\"]:\n",
    "            # sub-region\n",
    "            try:\n",
    "                sub_region_striped = re.match(r\"^^(?:Canton of )?(.*?)(?:\\s(?:Region|County|Prefecture|Province|\\(\\w+\\)).*)?$\", sub_region).group(1)\n",
    "                code = subdivisions[country_code][sub_region_striped]\n",
    "                code = re.sub(r\"^\\w*?-?(\\w+)$\", r\"\\1\", code)\n",
    "                df.loc[\n",
    "                    (df[\"geo_type\"] == geo_type) & \n",
    "                    (df[\"ISO3166-1\"] == country_code) & \n",
    "                    (df[\"sub-region\"] == sub_region),\n",
    "                \"ISO3166-2\"] = code\n",
    "            except:\n",
    "                pass\n",
    "        elif geo_type == \"sub-region\":\n",
    "            # region name\n",
    "            try:\n",
    "                region_striped = re.match(r\"^^(?:Canton of )?(.*?)(?:\\s(?:Region|County|Prefecture|Province|\\(\\w+\\)).*)?$\", region).group(1)\n",
    "                code = subdivisions[country_code][region_striped]\n",
    "                code = re.sub(r\"^\\w*?-?(\\w+)$\", r\"\\1\", code)\n",
    "                df.loc[\n",
    "                    (df[\"geo_type\"] == geo_type) & \n",
    "                    (df[\"ISO3166-1\"] == country_code) & \n",
    "                    (df[\"region\"] == region),\n",
    "                \"ISO3166-2\"] = code\n",
    "            except:\n",
    "                pass\n",
    "        else:\n",
    "            pass\n",
    "    "
   ]
  },
  {
   "cell_type": "code",
   "execution_count": null,
   "id": "instant-norway",
   "metadata": {},
   "outputs": [],
   "source": [
    "df[\"ISO3166-1\"] = \"\"\n",
    "df[\"ISO3166-2\"] = \"\""
   ]
  },
  {
   "cell_type": "code",
   "execution_count": null,
   "id": "japanese-blogger",
   "metadata": {},
   "outputs": [],
   "source": [
    "places = df[[\"geo_type\", \"region\", \"sub-region\", \"country\"]].fillna(\"\").groupby([\"geo_type\", \"region\", \"sub-region\", \"country\"])\n",
    "for row in places:\n",
    "    resolve_region(*row[0])\n",
    "    "
   ]
  },
  {
   "cell_type": "code",
   "execution_count": null,
   "id": "loving-girlfriend",
   "metadata": {},
   "outputs": [],
   "source": [
    "cols = list(filter(lambda col: not re.search(r\"\\d{4}-\\d{2}-\\d{2}\", col), list(df.columns)))\n",
    "vals = list(filter(lambda col: re.search(r\"\\d{4}-\\d{2}-\\d{2}\", col), list(df.columns)))"
   ]
  },
  {
   "cell_type": "code",
   "execution_count": null,
   "id": "numerical-prediction",
   "metadata": {},
   "outputs": [],
   "source": [
    "# unpivot df\n",
    "df = pd.melt(df, value_vars=vals, id_vars=cols)"
   ]
  },
  {
   "cell_type": "code",
   "execution_count": null,
   "id": "center-strap",
   "metadata": {},
   "outputs": [],
   "source": [
    "df.loc[df[\"ISO3166-2\"] == \"\", \"ISO3166-2\"] = np.nan"
   ]
  },
  {
   "cell_type": "code",
   "execution_count": null,
   "id": "documented-savings",
   "metadata": {},
   "outputs": [],
   "source": [
    "df.sample(25)"
   ]
  },
  {
   "cell_type": "code",
   "execution_count": null,
   "id": "experimental-audit",
   "metadata": {},
   "outputs": [],
   "source": [
    "column_map = {\n",
    "    \"region\": \"COUNTRY/REGION\",\n",
    "    \"sub-region\": \"PROVINCE/STATE\",\n",
    "    \"variable\": \"DATE\",\n",
    "    \"value\": \"DIFFERENCE\",\n",
    "    \"transportation_type\": \"TRANSPORTATION_TYPE\"\n",
    "}\n",
    "df = df.rename(columns=column_map)"
   ]
  },
  {
   "cell_type": "code",
   "execution_count": null,
   "id": "strategic-outreach",
   "metadata": {},
   "outputs": [],
   "source": [
    "df[\"Last_Updated_Date\"] = datetime.utcnow()\n",
    "df['Last_Reported_Flag'] = df[\"DATE\"].max() == df[\"DATE\"]"
   ]
  },
  {
   "cell_type": "code",
   "execution_count": null,
   "id": "pending-candy",
   "metadata": {},
   "outputs": [],
   "source": [
    "df.to_csv(output_folder + \"APPLE_MOBILITY.csv\", index=False, columns=[\"COUNTRY/REGION\",\n",
    "                                                                      \"PROVINCE/STATE\",\n",
    "                                                                      \"DATE\",\n",
    "                                                                      \"TRANSPORTATION_TYPE\",\n",
    "                                                                      \"DIFFERENCE\",\n",
    "                                                                      \"ISO3166-1\",\n",
    "                                                                      \"ISO3166-2\",\n",
    "                                                                      \"Last_Updated_Date\",\n",
    "                                                                      \"Last_Reported_Flag\"\n",
    "                                                                    ])"
   ]
  }
 ],
 "metadata": {
  "celltoolbar": "Tags",
  "kernelspec": {
   "display_name": "Python 3",
   "language": "python",
   "name": "python3"
  },
  "language_info": {
   "codemirror_mode": {
    "name": "ipython",
    "version": 3
   },
   "file_extension": ".py",
   "mimetype": "text/x-python",
   "name": "python",
   "nbconvert_exporter": "python",
   "pygments_lexer": "ipython3",
   "version": "3.6.5"
  }
 },
 "nbformat": 4,
 "nbformat_minor": 5
}
