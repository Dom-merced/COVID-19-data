{
 "cells": [
  {
   "cell_type": "markdown",
   "metadata": {
    "collapsed": true,
    "pycharm": {
     "name": "#%% md\n"
    }
   },
   "source": [
    "# CDC estimated inpatient beds time series\n",
    "\n",
    "* [Estimated inpatient beds](https://healthdata.gov/sites/default/files/estimated_inpatient_all_20210221_1631.csv)\n",
    "* [Estimated inpatient beds in use by COVID-19 patients](https://healthdata.gov/sites/default/files/estimated_inpatient_covid_20210221_1631.csv)\n",
    "* [Estimated ICU beds](https://healthdata.gov/sites/default/files/estimated_icu_20210221_1631.csv)"
   ]
  },
  {
   "cell_type": "code",
   "execution_count": 1,
   "metadata": {
    "pycharm": {
     "name": "#%%\n"
    }
   },
   "outputs": [],
   "source": [
    "import pandas as pd\n",
    "import numpy as np\n",
    "import pycountry\n",
    "import json\n",
    "from datetime import datetime\n",
    "from functools import reduce\n",
    "import requests\n",
    "from io import StringIO\n",
    "import re\n",
    "from bs4 import BeautifulSoup\n",
    "import requests"
   ]
  },
  {
   "cell_type": "code",
   "execution_count": 2,
   "metadata": {
    "tags": [
     "parameters"
    ]
   },
   "outputs": [],
   "source": [
    "# papermill parameters\n",
    "output_folder = \"../output/\""
   ]
  },
  {
   "cell_type": "code",
   "execution_count": 3,
   "metadata": {},
   "outputs": [
    {
     "name": "stdout",
     "output_type": "stream",
     "text": [
      "https://healthdata.gov/sites/default/files/estimated_inpatient_all_20210223_1725.csv\n"
     ]
    },
    {
     "ename": "NameError",
     "evalue": "name 'states' is not defined",
     "output_type": "error",
     "traceback": [
      "\u001b[0;31m---------------------------------------------------------------------------\u001b[0m",
      "\u001b[0;31mNameError\u001b[0m                                 Traceback (most recent call last)",
      "\u001b[0;32m<ipython-input-3-a939709e54d6>\u001b[0m in \u001b[0;36m<module>\u001b[0;34m\u001b[0m\n\u001b[1;32m     15\u001b[0m \u001b[0;34m\u001b[0m\u001b[0m\n\u001b[1;32m     16\u001b[0m     \u001b[0mdf\u001b[0m\u001b[0;34m[\u001b[0m\u001b[0;34m\"Last_Reported_Flag\"\u001b[0m\u001b[0;34m]\u001b[0m \u001b[0;34m=\u001b[0m \u001b[0mdf\u001b[0m\u001b[0;34m[\u001b[0m\u001b[0;34m\"collection_date\"\u001b[0m\u001b[0;34m]\u001b[0m\u001b[0;34m.\u001b[0m\u001b[0mmax\u001b[0m\u001b[0;34m(\u001b[0m\u001b[0;34m)\u001b[0m \u001b[0;34m==\u001b[0m \u001b[0mdf\u001b[0m\u001b[0;34m[\u001b[0m\u001b[0;34m\"collection_date\"\u001b[0m\u001b[0;34m]\u001b[0m\u001b[0;34m\u001b[0m\u001b[0m\n\u001b[0;32m---> 17\u001b[0;31m     \u001b[0mdf\u001b[0m \u001b[0;34m=\u001b[0m \u001b[0mdf\u001b[0m\u001b[0;34m[\u001b[0m\u001b[0mdf\u001b[0m\u001b[0;34m[\u001b[0m\u001b[0;34m\"ISO3166_2\"\u001b[0m\u001b[0;34m]\u001b[0m\u001b[0;34m.\u001b[0m\u001b[0misin\u001b[0m\u001b[0;34m(\u001b[0m\u001b[0mstates\u001b[0m\u001b[0;34m)\u001b[0m\u001b[0;34m]\u001b[0m\u001b[0;34m\u001b[0m\u001b[0m\n\u001b[0m\u001b[1;32m     18\u001b[0m     \u001b[0mdf_list\u001b[0m\u001b[0;34m.\u001b[0m\u001b[0mappend\u001b[0m\u001b[0;34m(\u001b[0m\u001b[0mdf\u001b[0m\u001b[0;34m)\u001b[0m\u001b[0;34m\u001b[0m\u001b[0m\n",
      "\u001b[0;31mNameError\u001b[0m: name 'states' is not defined"
     ]
    }
   ],
   "source": [
    "root_url = \"https://healthdata.gov/dataset/covid-19-estimated-patient-impact-and-hospital-capacity-state\"\n",
    "states = [subdivision.code.replace(\"US-\", \\\"\\\") for subdivision in pycountry.subdivisions if subdivision.code.startswith(\\\"US-\\\")]\"\n",
    "response = requests.get(root_url)\n",
    "assert response.status_code == 200\n",
    "soup = BeautifulSoup(response.content)\n",
    "links = soup.find_all(\"a\", {\"class\": \"data-link\"})\n",
    "assert len(links)\n",
    "df_list = []\n",
    "for l in links:\n",
    "    url = l[\"href\"]\n",
    "    print(url)\n",
    "    df = pd.read_csv(url)\n",
    "    df[\"ISO3166_1\"] = \"US\"\n",
    "    df[\"ISO3166_2\"] = df[\"state\"]\n",
    "    \n",
    "    df[\"Last_Reported_Flag\"] = df[\"collection_date\"].max() == df[\"collection_date\"]\n",
    "    df = df[df[\"ISO3166_2\"].isin(states)]\n",
    "    df_list.append(df)"
   ]
  },
  {
   "cell_type": "code",
   "execution_count": null,
   "metadata": {},
   "outputs": [],
   "source": [
    "modified_date = soup.find(\"div\", {\"property\": \"dcterms:modified\"}).text\n",
    "states = [subdivision.code.replace(\"US-\", \"\") for subdivision in pycountry.subdivisions if subdivision.code.startswith(\"US-\")]"
   ]
  },
  {
   "cell_type": "code",
   "execution_count": null,
   "metadata": {
    "scrolled": true
   },
   "outputs": [],
   "source": [
    "inpatient_beds, covid_19_inpatient_beds, occupied_icu_beds, *_ = df_list\n",
    "inpatient_beds.columns = [\"STATE\", \"DATE\", \"INPATIENT_BEDS_OCCUPIED\", \"INPATIENT_BEDS_LOWER_BOUND\", \"INPATIENT_BEDS_UPPER_BOUND\", \"INPATIENT_BEDS_IN_USE_PCT\", \"INPATIENT_BEDS_IN_USE_PCT_LOWER_BOUND\", \"INPATIENT_BEDS_IN_USE_PCT_UPPER_BOUND\", \"TOTAL_INPATIENT_BEDS\", \"TOTAL_INPATIENT_BEDS_LOWER_BOUND\", \"TOTAL_INPATIENT_BEDS_UPPER_BOUND\", \"ISO3166_1\", \"ISO3166_2\", \"LAST_REPORTED_FLAG\"]\n",
    "covid_19_inpatient_beds.columns = inpatient_beds.columns\n",
    "occupied_icu_beds.columns = [\"STATE\", \"DATE\", \"STAFFED_ADULT_ICU_BEDS_OCCUPIED\", \"STAFFED_ADULT_ICU_BEDS_OCCUPIED_LOWER_BOUND\", \"STAFFED_ADULT_ICU_BEDS_OCCUPIED_UPPER_BOUND\", \"STAFFED_ADULT_ICU_BEDS_OCCUPIED_PCT\", \"STAFFED_ADULT_ICU_BEDS_OCCUPIED_PCT_LOWER_BOUND\", \"STAFFED_ADULT_ICU_BEDS_OCCUPIED_PCT_UPPER_BOUND\", \"TOTAL_STAFFED_ICU_BEDS\", \"TOTAL_STAFFED_ICU_BEDS_LOWER_BOUND\", \"TOTAL_STAFFED_ICU_BEDS_UPPER_BOUND\", \"ISO3166_1\", \"ISO3166_2\", \"LAST_REPORTED_FLAG\"]"
   ]
  },
  {
   "cell_type": "markdown",
   "metadata": {},
   "source": [
    "```sql\n",
    "CREATE TABLE CDC_INPATIENT_BEDS_ALL (\n",
    "    STATE varchar,\n",
    "DATE timestamp_ntz,\n",
    "INPATIENT_BEDS_OCCUPIED integer,\n",
    "INPATIENT_BEDS_LOWER_BOUND integer,\n",
    "INPATIENT_BEDS_UPPER_BOUND integer,\n",
    "INPATIENT_BEDS_IN_USE_PCT float,\n",
    "INPATIENT_BEDS_IN_USE_PCT_LOWER_BOUND float,\n",
    "INPATIENT_BEDS_IN_USE_PCT_UPPER_BOUND float,\n",
    "TOTAL_INPATIENT_BEDS integer,\n",
    "TOTAL_INPATIENT_BEDS_LOWER_BOUND integer,\n",
    "TOTAL_INPATIENT_BEDS_UPPER_BOUND integer,\n",
    "ISO3166_1 varchar(2),\n",
    "ISO3166_2 varchar(2),\n",
    "LAST_REPORTED_FLAG boolean\n",
    ");\n",
    "\n",
    "\n",
    "\n",
    "CREATE TABLE  CDC_INPATIENT_BEDS_COVID_19 (\n",
    "  STATE varchar,\n",
    "  DATE timestamp_ntz,\n",
    "  INPATIENT_BEDS_OCCUPIED integer,\n",
    "  INPATIENT_BEDS_LOWER_BOUND integer,\n",
    "  INPATIENT_BEDS_UPPER_BOUND integer,\n",
    "  INPATIENT_BEDS_IN_USE_PCT float,\n",
    "  INPATIENT_BEDS_IN_USE_PCT_LOWER_BOUND float,\n",
    "  INPATIENT_BEDS_IN_USE_PCT_UPPER_BOUND float,\n",
    "  TOTAL_INPATIENT_BEDS integer,\n",
    "  TOTAL_INPATIENT_BEDS_LOWER_BOUND integer,\n",
    "  TOTAL_INPATIENT_BEDS_UPPER_BOUND integer,\n",
    "  ISO3166_1 varchar(2),\n",
    "  ISO3166_2 varchar(2),\n",
    "  LAST_REPORTED_FLAG boolean\n",
    ");\n",
    "\n",
    "\n",
    "CREATE TABLE CDC_INPATIENT_BEDS_ICU_ALL(\n",
    "  STATE varchar,\n",
    "  DATE timestamp_ntz,\n",
    "  STAFFED_ADULT_ICU_BEDS_OCCUPIED integer,\n",
    "  STAFFED_ADULT_ICU_BEDS_OCCUPIED_LOWER_BOUND integer,\n",
    "  STAFFED_ADULT_ICU_BEDS_OCCUPIED_UPPER_BOUND integer,\n",
    "  STAFFED_ADULT_ICU_BEDS_OCCUPIED_PCT float,\n",
    "  STAFFED_ADULT_ICU_BEDS_OCCUPIED_PCT_LOWER_BOUND float,\n",
    "  STAFFED_ADULT_ICU_BEDS_OCCUPIED_PCT_UPPER_BOUND float,\n",
    "  TOTAL_STAFFED_ICU_BEDS integer,\n",
    "  TOTAL_STAFFED_ICU_BEDS_LOWER_BOUND integer,\n",
    "  TOTAL_STAFFED_ICU_BEDS_UPPER_BOUND integer,\n",
    "  ISO3166_1 varchar(2),\n",
    "  ISO3166_2 varchar(2),\n",
    "  LAST_REPORTED_FLAG boolean\n",
    ");\n",
    "```"
   ]
  },
  {
   "cell_type": "code",
   "execution_count": null,
   "metadata": {},
   "outputs": [],
   "source": [
    "inpatient_beds.to_csv(output_folder + \"CDC_INPATIENT_BEDS_ALL.csv\", index=False, columns=inpatient_beds.columns)\n",
    "covid_19_inpatient_beds.to_csv(output_folder + \"CDC_INPATIENT_BEDS_COVID_19.csv\", index=False, columns=covid_19_inpatient_beds.columns)\n",
    "occupied_icu_beds.to_csv(output_folder + \"CDC_INPATIENT_BEDS_ICU_ALL.csv\", index=False, columns=occupied_icu_beds.columns)"
   ]
  }
 ],
 "metadata": {
  "celltoolbar": "Tags",
  "kernelspec": {
   "display_name": "Python 3",
   "language": "python",
   "name": "python3"
  },
  "language_info": {
   "codemirror_mode": {
    "name": "ipython",
    "version": 3
   },
   "file_extension": ".py",
   "mimetype": "text/x-python",
   "name": "python",
   "nbconvert_exporter": "python",
   "pygments_lexer": "ipython3",
   "version": "3.6.5"
  }
 },
 "nbformat": 4,
 "nbformat_minor": 1
}
