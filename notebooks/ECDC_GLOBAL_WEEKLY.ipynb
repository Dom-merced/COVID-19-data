{
 "cells": [
  {
   "cell_type": "markdown",
   "metadata": {},
   "source": [
    "# European Centre for Disease Prevention and Control Dataset"
   ]
  },
  {
   "cell_type": "code",
   "execution_count": null,
   "metadata": {},
   "outputs": [],
   "source": [
    "import pandas as pd\n",
    "import datetime\n",
    "import pycountry\n",
    "import re\n",
    "import os\n",
    "import numpy as np"
   ]
  },
  {
   "cell_type": "code",
   "execution_count": null,
   "metadata": {
    "tags": [
     "parameters"
    ]
   },
   "outputs": [],
   "source": [
    "# papermill parameters\n",
    "output_folder = \"../output/\""
   ]
  },
  {
   "cell_type": "markdown",
   "metadata": {},
   "source": [
    "### Fetch data"
   ]
  },
  {
   "cell_type": "code",
   "execution_count": null,
   "metadata": {},
   "outputs": [],
   "source": [
    "df = pd.read_csv(\"https://opendata.ecdc.europa.eu/covid19/nationalcasedeath/csv\")"
   ]
  },
  {
   "cell_type": "markdown",
   "metadata": {},
   "source": [
    "### Parse date"
   ]
  },
  {
   "cell_type": "code",
   "execution_count": null,
   "metadata": {},
   "outputs": [],
   "source": [
    "df[\"dateRep\"] = pd.to_datetime(df[\"year_week\"] + \"-1\", format=\"%Y-%W-%w\")\n",
    "df = df.pivot(index=[\"country\", \"country_code\", \"continent\", \"population\", \"dateRep\", \"year_week\"], columns=\"indicator\", values=\"weekly_count\")\n",
    "df = df.reset_index()"
   ]
  },
  {
   "cell_type": "code",
   "execution_count": null,
   "metadata": {},
   "outputs": [],
   "source": [
    "df = df.sort_values(by=[\"country\", \"dateRep\"])"
   ]
  },
  {
   "cell_type": "markdown",
   "metadata": {},
   "source": [
    "### Add difference"
   ]
  },
  {
   "cell_type": "code",
   "execution_count": null,
   "metadata": {},
   "outputs": [],
   "source": [
    "df['CASES_SINCE_PREV_WEEK'] = df.groupby(['country','continent'])['cases'].diff().fillna(0).astype(int)\n",
    "df['DEATHS_SINCE_PREV_WEEK'] = df.groupby(['country','continent'])['deaths'].diff().fillna(0).astype(int)"
   ]
  },
  {
   "cell_type": "markdown",
   "metadata": {},
   "source": [
    "### Drop cols"
   ]
  },
  {
   "cell_type": "code",
   "execution_count": null,
   "metadata": {},
   "outputs": [],
   "source": [
    "df = df.drop(columns=[\"year_week\"])"
   ]
  },
  {
   "cell_type": "markdown",
   "metadata": {},
   "source": [
    "### Resolve Country/Region name"
   ]
  },
  {
   "cell_type": "code",
   "execution_count": null,
   "metadata": {},
   "outputs": [],
   "source": [
    "country_codes = df[\"country_code\"].unique()\n",
    "for code in country_codes:\n",
    "    try:\n",
    "        pyc = pycountry.countries.get(alpha_2=code)\n",
    "        if pyc:\n",
    "            df[\"country\"].loc[code == df[\"country_code\"]] = pyc.name\n",
    "    except LookupError:\n",
    "        df[\"country\"].loc[code == df[\"country_code\"]] = None"
   ]
  },
  {
   "cell_type": "markdown",
   "metadata": {},
   "source": [
    "### Set Last Update Date and Last Reported Flag"
   ]
  },
  {
   "cell_type": "code",
   "execution_count": null,
   "metadata": {},
   "outputs": [],
   "source": [
    "df[\"LAST_UPDATE_DATE\"] = datetime.datetime.utcnow()\n",
    "df[\"LAST_REPORTED_FLAG\"] = df[\"dateRep\"].max() == df[\"dateRep\"]"
   ]
  },
  {
   "cell_type": "markdown",
   "metadata": {},
   "source": [
    "### Rename Cols"
   ]
  },
  {
   "cell_type": "code",
   "execution_count": null,
   "metadata": {},
   "outputs": [],
   "source": [
    "df = df.rename(columns={\n",
    "    \"dateRep\": \"DATE\", \n",
    "    \"country\": \"COUNTRY_REGION\", \n",
    "    \"continent\": \"continentExp\",\n",
    "    \"country_code\": \"ISO3166_1\", \n",
    "    \"population\": \"POPULATION\",\n",
    "    \"cases\": \"cases_weekly\",\n",
    "    \"deaths\": \"deaths_weekly\"\n",
    "})"
   ]
  },
  {
   "cell_type": "markdown",
   "metadata": {},
   "source": [
    "### Save dataframe"
   ]
  },
  {
   "cell_type": "code",
   "execution_count": null,
   "metadata": {},
   "outputs": [],
   "source": [
    "df.to_csv(output_folder + \"ECDC_GLOBAL_WEEKLY.csv\", index=False, columns=[\n",
    "    \"COUNTRY_REGION\",\n",
    "    \"continentExp\",\n",
    "    \"ISO3166_1\",\n",
    "    \"cases_weekly\",\n",
    "    \"deaths_weekly\",\n",
    "    \"CASES_SINCE_PREV_WEEK\",\n",
    "    \"DEATHS_SINCE_PREV_WEEK\",\n",
    "    \"POPULATION\",\n",
    "    \"DATE\",\n",
    "    \"LAST_UPDATE_DATE\",\n",
    "    \"LAST_REPORTED_FLAG\"\n",
    "])"
   ]
  }
 ],
 "metadata": {
  "celltoolbar": "Tags",
  "kernelspec": {
   "display_name": "Python 3",
   "language": "python",
   "name": "python3"
  },
  "language_info": {
   "codemirror_mode": {
    "name": "ipython",
    "version": 3
   },
   "file_extension": ".py",
   "mimetype": "text/x-python",
   "name": "python",
   "nbconvert_exporter": "python",
   "pygments_lexer": "ipython3",
   "version": "3.6.5"
  }
 },
 "nbformat": 4,
 "nbformat_minor": 4
}
