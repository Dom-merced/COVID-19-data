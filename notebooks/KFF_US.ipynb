{
 "cells": [
  {
   "cell_type": "code",
   "execution_count": null,
   "metadata": {},
   "outputs": [],
   "source": [
    "from bs4 import BeautifulSoup\n",
    "import requests\n",
    "from datetime import datetime\n",
    "import re\n",
    "import pandas as pd"
   ]
  },
  {
   "cell_type": "code",
   "execution_count": null,
   "metadata": {
    "tags": [
     "parameters"
    ]
   },
   "outputs": [],
   "source": [
    "# papermill parameters\n",
    "output_folder = \"../output/\""
   ]
  },
  {
   "cell_type": "markdown",
   "metadata": {},
   "source": [
    "## Functions"
   ]
  },
  {
   "cell_type": "code",
   "execution_count": null,
   "metadata": {},
   "outputs": [],
   "source": [
    "def find_potential_divs(soup):\n",
    "    divs = soup.findAll(lambda tag:tag.name == \"div\" and len(tag.attrs) == 2)\n",
    "    found_div = []\n",
    "    for div in divs:\n",
    "        if 'data-app-js' in div.attrs.keys():\n",
    "            found_div.append(div)\n",
    "    return found_div\n",
    "\n",
    "def parse_state_actions(div):\n",
    "    return eval(div['data-app-js'].replace(\n",
    "    'false', 'False').replace('true', 'True').replace(\n",
    "    'null', 'None'))['gdocs_object']\n",
    "\n",
    "def get_df_from_parsed(parsed):\n",
    "    df = pd.DataFrame(parsed[0][1])\n",
    "    df.loc[0, 0] = 'Location'\n",
    "    df.columns = df.loc[0]\n",
    "    df = df.drop([0,1, 2])\n",
    "    df = df.reset_index(drop=True)\n",
    "    return df"
   ]
  },
  {
   "cell_type": "markdown",
   "metadata": {},
   "source": [
    "## Get request and parse response"
   ]
  },
  {
   "cell_type": "code",
   "execution_count": null,
   "metadata": {},
   "outputs": [],
   "source": [
    "r = requests.get(\"https://www.kff.org/health-costs/issue-brief/state-data-and-policy-actions-to-address-coronavirus/\")"
   ]
  },
  {
   "cell_type": "code",
   "execution_count": null,
   "metadata": {},
   "outputs": [],
   "source": [
    "soup = BeautifulSoup(r.content, 'html5lib')"
   ]
  },
  {
   "cell_type": "markdown",
   "metadata": {},
   "source": [
    "## Get tables"
   ]
  },
  {
   "cell_type": "code",
   "execution_count": null,
   "metadata": {},
   "outputs": [],
   "source": [
    "found_divs = find_potential_divs(soup)"
   ]
  },
  {
   "cell_type": "markdown",
   "metadata": {},
   "source": [
    "### State Actions to Mitigate the Spread of COVID-19\n",
    "\n",
    "Table schema:\n",
    "\n",
    "```sql\n",
    "-- KFF_US_STATE_MITIGATIONS DDL\n",
    "-- cvcb.28JUL2020: created\n",
    "\n",
    "CREATE OR REPLACE TABLE KFF_US_STATE_MITIGATIONS (\n",
    "    PROVINCE_STATE VARCHAR(255),\n",
    "    STATUS_OF_REOPENING VARCHAR(255),\n",
    "    STAY_AT_HOME_ORDER VARCHAR(255),\n",
    "    MANDATORY_QUARANTINE_FOR_TRAVELERS VARCHAR(255),\n",
    "    NON_ESSENTIAL_BUSINESS_CLOSURES VARCHAR(255),\n",
    "    LARGE_GATHERINGS_BAN VARCHAR(255),\n",
    "    RESTAURANT_LIMITS VARCHAR(255),\n",
    "    BAR_CLOSURES VARCHAR(255),\n",
    "    FACE_COVERING_REQUIREMENT VARCHAR(255),\n",
    "    PRIMARY_ELECTION_POSTPONEMENT VARCHAR(255),\n",
    "    EMERGENCY_DECLARATION VARCHAR(255),\n",
    "    LAST_UPDATED_DATE \n",
    ");\n",
    "```"
   ]
  },
  {
   "cell_type": "code",
   "execution_count": null,
   "metadata": {},
   "outputs": [],
   "source": [
    "parsed = parse_state_actions(found_divs[1])"
   ]
  },
  {
   "cell_type": "code",
   "execution_count": null,
   "metadata": {},
   "outputs": [],
   "source": [
    "df_actions = get_df_from_parsed(parsed)\n",
    "df_actions[\"Last_Update_Date\"] = datetime.utcnow()"
   ]
  },
  {
   "cell_type": "code",
   "execution_count": null,
   "metadata": {},
   "outputs": [],
   "source": [
    "df_actions.to_csv(f'{output_folder}/KFF_US_STATE_MITIGATIONS.csv',\n",
    "                  columns=[\n",
    "                      'Location', 'Status of Reopening', 'Stay at Home Order',\n",
    "                      'Mandatory Quarantine for Travelers',\n",
    "                      'Non-Essential Business Closures',\n",
    "                      'Large Gatherings Ban', 'Restaurant Limits',\n",
    "                      'Bar Closures', 'Face Covering Requirement',\n",
    "                      'Primary Election Postponement', 'Emergency Declaration',\n",
    "                      'Last_Update_Date'\n",
    "                  ],\n",
    "                  index=False)"
   ]
  },
  {
   "cell_type": "markdown",
   "metadata": {},
   "source": [
    "### Reopening status timeline\n",
    "\n",
    "This requires the table `US_REOPENING_TIMELINE`, with the DDL\n",
    "\n",
    "```sql\n",
    "--- US reopening status DDL\n",
    "--- cvcb.27JUL2020: created\n",
    "\n",
    "CREATE OR REPLACE TABLE KFF_US_REOPENING_TIMELINE (\n",
    "  DATE DATE,\n",
    "  COUNTRY_REGION VARCHAR(255),\n",
    "  PROVINCE_STATE VARCHAR(255),\n",
    "  STATUS VARCHAR(255)\n",
    ");\n",
    "```"
   ]
  },
  {
   "cell_type": "code",
   "execution_count": null,
   "metadata": {},
   "outputs": [],
   "source": [
    "reopening_timeline = df_actions[[\"Location\", \"Status of Reopening\"]]\n",
    "reopening_timeline[\"COUNTRY_REGION\"] = \"United States\"\n",
    "reopening_timeline[\n",
    "    \"DATE\"] = f\"{datetime.utcnow().year}-{datetime.utcnow().month:0>2d}-{datetime.utcnow().day:0>2d}\"\n",
    "reopening_timeline.columns = [\n",
    "    \"PROVINCE_STATE\", \"STATUS\", \"COUNTRY_REGION\", \"DATE\"\n",
    "]"
   ]
  },
  {
   "cell_type": "code",
   "execution_count": null,
   "metadata": {},
   "outputs": [],
   "source": [
    "reopening_timeline.to_csv(\n",
    "    f\"{output_folder}/KFF_US_REOPENING_TIMELINE_INCREMENT.csv\",\n",
    "    columns=[\"DATE\", \"COUNTRY_REGION\", \"PROVINCE_STATE\", \"STATUS\"],\n",
    "    index=False)"
   ]
  },
  {
   "cell_type": "markdown",
   "metadata": {},
   "source": [
    "### State COVID-19 Health Policy Actions"
   ]
  },
  {
   "cell_type": "code",
   "execution_count": null,
   "metadata": {},
   "outputs": [],
   "source": [
    "parsed = parse_state_actions(found_divs[3])"
   ]
  },
  {
   "cell_type": "code",
   "execution_count": null,
   "metadata": {
    "scrolled": true
   },
   "outputs": [],
   "source": [
    "df_health = get_df_from_parsed(parsed)\n",
    "df_health[\"Notes\"] = \"\"\n",
    "df_health[\"Last_Update_Date\"] = datetime.utcnow()"
   ]
  },
  {
   "cell_type": "code",
   "execution_count": null,
   "metadata": {},
   "outputs": [],
   "source": [
    "df_health.to_csv(f'{output_folder}/KFF_US_POLICY_ACTIONS.csv', columns=['Location', 'Waive Cost Sharing for COVID-19 Treatment',\n",
    "       'Free Cost Vaccine When Available',\n",
    "       'State Requires Waiver of Prior Authorization Requirements*',\n",
    "       'Early Prescription Refills',\n",
    "       'Marketplace Special Enrollment Period (SEP)', 'Section 1135 Waiver',\n",
    "       'Paid Sick Leave', 'Premium Payment Grace Period', 'Notes', 'Last_Update_Date'], index=False)"
   ]
  }
 ],
 "metadata": {
  "kernelspec": {
   "display_name": "Python 3",
   "language": "python",
   "name": "python3"
  },
  "language_info": {
   "codemirror_mode": {
    "name": "ipython",
    "version": 3
   },
   "file_extension": ".py",
   "mimetype": "text/x-python",
   "name": "python",
   "nbconvert_exporter": "python",
   "pygments_lexer": "ipython3",
   "version": "3.7.5"
  },
  "toc": {
   "base_numbering": 1,
   "nav_menu": {},
   "number_sections": false,
   "sideBar": false,
   "skip_h1_title": false,
   "title_cell": "Table of Contents",
   "title_sidebar": "Contents",
   "toc_cell": false,
   "toc_position": {},
   "toc_section_display": false,
   "toc_window_display": false
  }
 },
 "nbformat": 4,
 "nbformat_minor": 2
}
