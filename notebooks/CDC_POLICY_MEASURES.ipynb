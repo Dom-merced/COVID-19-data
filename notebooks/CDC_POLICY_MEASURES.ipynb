{
 "cells": [
  {
   "cell_type": "markdown",
   "metadata": {
    "collapsed": true,
    "pycharm": {
     "name": "#%% md\n"
    }
   },
   "source": [
    "# CDC State and County Policy Measures\n",
    "\n",
    "* [COVID-19 State and County Policy Orders](https://healthdata.gov/dataset/covid-19-state-and-county-policy-orders)"
   ]
  },
  {
   "cell_type": "code",
   "execution_count": null,
   "outputs": [],
   "source": [
    "import pandas as pd\n",
    "import numpy as np\n",
    "import pycountry\n",
    "import json\n",
    "from datetime import datetime\n",
    "from functools import reduce\n",
    "import requests\n",
    "from io import StringIO\n",
    "import re"
   ],
   "metadata": {
    "collapsed": false,
    "pycharm": {
     "name": "#%%\n"
    }
   }
  },
  {
   "cell_type": "code",
   "execution_count": null,
   "outputs": [],
   "source": [
    "# papermill parameters\n",
    "output_folder = \"../output/\""
   ],
   "metadata": {
    "collapsed": false,
    "pycharm": {
     "name": "#%%\n"
    }
   }
  },
  {
   "cell_type": "code",
   "execution_count": null,
   "outputs": [],
   "source": [
    "# Get today's path\n",
    "\n",
    "y, m, d = datetime.now().year, datetime.now().month, datetime.now().day\n",
    "\n",
    "url = f\"https://healthdata.gov/sites/default/files/state_policy_updates_{y}{m:02d}{d:02d}_0720.csv\"\n"
   ],
   "metadata": {
    "collapsed": false,
    "pycharm": {
     "name": "#%%\n"
    }
   }
  },
  {
   "cell_type": "code",
   "execution_count": null,
   "outputs": [],
   "source": [
    "states = [subdivision.code.replace(\"US-\", \"\") for subdivision in pycountry.subdivisions if subdivision.code.startswith(\"US-\")]"
   ],
   "metadata": {
    "collapsed": false,
    "pycharm": {
     "name": "#%%\n"
    }
   }
  },
  {
   "cell_type": "code",
   "execution_count": null,
   "outputs": [],
   "source": [
    "def grab_and_augment_table(url: str) -> pd.DataFrame:\n",
    "    try:\n",
    "        df = pd.read_csv(url)\n",
    "        df[\"ISO3166_1\"] = \"US\"\n",
    "        df[\"ISO3166_2\"] = df[\"state_id\"]\n",
    "        df[\"DATE\"] = f\"{y}-{m}-{d}\"\n",
    "        return df[df[\"ISO3166_2\"].isin(states)]\n",
    "    except Exception as e:\n",
    "        pass"
   ],
   "metadata": {
    "collapsed": false,
    "pycharm": {
     "name": "#%%\n"
    }
   }
  },
  {
   "cell_type": "code",
   "execution_count": null,
   "outputs": [],
   "source": [
    "reported_policy_updates = grab_and_augment_table(url)"
   ],
   "metadata": {
    "collapsed": false,
    "pycharm": {
     "name": "#%%\n"
    }
   }
  },
  {
   "cell_type": "code",
   "execution_count": null,
   "outputs": [],
   "source": [
    "reported_policy_updates.to_csv(output_folder + \"CDC_POLICY_MEASURES.csv\", index=False, columns=reported_policy_updates.columns)"
   ],
   "metadata": {
    "collapsed": false,
    "pycharm": {
     "name": "#%%\n"
    }
   }
  }
 ],
 "metadata": {
  "kernelspec": {
   "display_name": "Python 3",
   "language": "python",
   "name": "python3"
  },
  "language_info": {
   "codemirror_mode": {
    "name": "ipython",
    "version": 2
   },
   "file_extension": ".py",
   "mimetype": "text/x-python",
   "name": "python",
   "nbconvert_exporter": "python",
   "pygments_lexer": "ipython2",
   "version": "2.7.6"
  }
 },
 "nbformat": 4,
 "nbformat_minor": 0
}