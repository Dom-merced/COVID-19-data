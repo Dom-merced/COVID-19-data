{
 "cells": [
  {
   "cell_type": "markdown",
   "metadata": {
    "collapsed": true,
    "pycharm": {
     "name": "#%% md\n"
    }
   },
   "source": [
    "# CDC estimated inpatient beds time series\n",
    "\n",
    "* [Estimated inpatient beds](https://healthdata.gov/sites/default/files/estimated_inpatient_all_20210221_1631.csv)\n",
    "* [Estimated inpatient beds in use by COVID-19 patients](https://healthdata.gov/sites/default/files/estimated_inpatient_covid_20210221_1631.csv)\n",
    "* [Estimated ICU beds](https://healthdata.gov/sites/default/files/estimated_icu_20210221_1631.csv)"
   ]
  },
  {
   "cell_type": "code",
   "execution_count": null,
   "source": [
    "import pandas as pd\n",
    "import numpy as np\n",
    "import pycountry\n",
    "import json\n",
    "from datetime import datetime\n",
    "from functools import reduce\n",
    "import requests\n",
    "from io import StringIO\n",
    "import re"
   ],
   "metadata": {
    "collapsed": false,
    "pycharm": {
     "name": "#%%\n"
    }
   }
  },
  {
   "cell_type": "code",
   "execution_count": null,
   "source": [
    "# papermill parameters\n",
    "output_folder = \"../output/\""
   ],
   "metadata": {
    "collapsed": false,
    "pycharm": {
     "name": "#%%\n"
    }
   }
  },
  {
   "cell_type": "code",
   "execution_count": null,
   "source": [
    "# Get today's path\n",
    "\n",
    "y, m, d = datetime.now().year, datetime.now().month, datetime.now().day\n",
    "\n",
    "root_url = \"https://healthdata.gov/sites/default/files/estimated\"\n",
    "inpatient_beds_url = f\"{root_url}_inpatient_all_{y}{m:02d}{d-1:02d}_1631.csv\"\n",
    "covid_19_inpatient_beds_url = f\"{root_url}_inpatient_covid_{y}{m:02d}{d-1:02d}_1631.csv\"\n",
    "occupied_icu_beds_url = f\"{root_url}_icu_{y}{m:02d}{d-1:02d}_1631.csv\""
   ],
   "metadata": {
    "collapsed": false,
    "pycharm": {
     "name": "#%%\n"
    }
   }
  },
  {
   "cell_type": "code",
   "execution_count": null,
   "source": [
    "states = [subdivision.code.replace(\"US-\", \"\") for subdivision in pycountry.subdivisions if subdivision.code.startswith(\"US-\")]"
   ],
   "metadata": {
    "collapsed": false,
    "pycharm": {
     "name": "#%%\n"
    }
   }
  },
  {
   "cell_type": "code",
   "execution_count": null,
   "source": [
    "def grab_and_augment_table(url: str) -> pd.DataFrame:\n",
    "    try:\n",
    "        df = pd.read_csv(url)\n",
    "        df[\"ISO3166_1\"] = \"US\"\n",
    "        df[\"ISO3166_2\"] = df[\"state\"]\n",
    "        df[\"Last_Reported_Flag\"] = df[\"collection_date\"].max() == df[\"collection_date\"]\n",
    "        return df[df[\"ISO3166_2\"].isin(states)]\n",
    "    except Exception as e:\n",
    "        pass"
   ],
   "metadata": {
    "collapsed": false,
    "pycharm": {
     "name": "#%%\n"
    }
   }
  },
  {
   "cell_type": "code",
   "execution_count": null,
   "source": [
    "inpatient_beds = grab_and_augment_table(inpatient_beds_url)\n",
    "covid_19_inpatient_beds = grab_and_augment_table(covid_19_inpatient_beds_url)\n",
    "occupied_icu_beds = grab_and_augment_table(occupied_icu_beds_url)"
   ],
   "metadata": {
    "collapsed": false,
    "pycharm": {
     "name": "#%%\n"
    }
   }
  },
  {
   "cell_type": "code",
   "execution_count": null,
   "source": [
    "inpatient_beds.columns = [\"STATE\", \"DATE\", \"INPATIENT_BEDS_OCCUPIED\", \"INPATIENT_BEDS_LOWER_BOUND\", \"INPATIENT_BEDS_UPPER_BOUND\", \"INPATIENT_BEDS_IN_USE_PCT\", \"INPATIENT_BEDS_IN_USE_PCT_LOWER_BOUND\", \"INPATIENT_BEDS_IN_USE_PCT_UPPER_BOUND\", \"TOTAL_INPATIENT_BEDS\", \"TOTAL_INPATIENT_BEDS_LOWER_BOUND\", \"TOTAL_INPATIENT_BEDS_UPPER_BOUND\", \"ISO3166_1\", \"ISO3166_2\", \"LAST_REPORTED_FLAG\"]\n",
    "covid_19_inpatient_beds.columns = inpatient_beds.columns\n",
    "occupied_icu_beds.columns = [\"STATE\", \"DATE\", \"STAFFED_ADULT_ICU_BEDS_OCCUPIED\", \"STAFFED_ADULT_ICU_BEDS_OCCUPIED_LOWER_BOUND\", \"STAFFED_ADULT_ICU_BEDS_OCCUPIED_UPPER_BOUND\", \"STAFFED_ADULT_ICU_BEDS_OCCUPIED_PCT\", \"STAFFED_ADULT_ICU_BEDS_OCCUPIED_PCT_LOWER_BOUND\", \"STAFFED_ADULT_ICU_BEDS_OCCUPIED_PCT_UPPER_BOUND\", \"TOTAL_STAFFED_ICU_BEDS\", \"TOTAL_STAFFED_ICU_BEDS_LOWER_BOUND\", \"TOTAL_STAFFED_ICU_BEDS_UPPER_BOUND\", \"ISO3166_1\", \"ISO3166_2\", \"LAST_REPORTED_FLAG\"]"
   ],
   "metadata": {
    "collapsed": false,
    "pycharm": {
     "name": "#%%\n"
    }
   }
  },
  {
   "cell_type": "code",
   "execution_count": null,
   "source": [
    "inpatient_beds.to_csv(output_folder + \"CDC_INPATIENT_BEDS_ALL.csv\", index=False, columns=inpatient_beds.columns)\n",
    "covid_19_inpatient_beds.to_csv(output_folder + \"CDC_INPATIENT_BEDS_COVID_19.csv\", index=False, columns=covid_19_inpatient_beds.columns)\n",
    "occupied_icu_beds.to_csv(output_folder + \"CDC_INPATIENT_BEDS_ICU_ALL.csv\", index=False, columns=occupied_icu_beds.columns)\n",
    "\n"
   ],
   "metadata": {
    "collapsed": false,
    "pycharm": {
     "name": "#%%\n"
    }
   }
  }
 ],
 "metadata": {
  "kernelspec": {
   "name": "python3",
   "language": "python",
   "display_name": "Python 3"
  },
  "language_info": {
   "codemirror_mode": {
    "name": "ipython",
    "version": 2
   },
   "file_extension": ".py",
   "mimetype": "text/x-python",
   "name": "python",
   "nbconvert_exporter": "python",
   "pygments_lexer": "ipython2",
   "version": "2.7.6"
  }
 },
 "nbformat": 4,
 "nbformat_minor": 0
}